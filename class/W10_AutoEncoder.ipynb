{
  "nbformat": 4,
  "nbformat_minor": 0,
  "metadata": {
    "colab": {
      "provenance": [],
      "gpuType": "T4",
      "authorship_tag": "ABX9TyMOF0Am+Ap+AADqocu4Vks0",
      "include_colab_link": true
    },
    "kernelspec": {
      "name": "python3",
      "display_name": "Python 3"
    },
    "language_info": {
      "name": "python"
    },
    "accelerator": "GPU"
  },
  "cells": [
    {
      "cell_type": "markdown",
      "metadata": {
        "id": "view-in-github",
        "colab_type": "text"
      },
      "source": [
        "<a href=\"https://colab.research.google.com/github/sjunc/AI-Library/blob/main/class/W10_AutoEncoder.ipynb\" target=\"_parent\"><img src=\"https://colab.research.google.com/assets/colab-badge.svg\" alt=\"Open In Colab\"/></a>"
      ]
    },
    {
      "cell_type": "markdown",
      "source": [
        "# W10 - AutoEncoder"
      ],
      "metadata": {
        "id": "kgEU5nWayi1k"
      }
    },
    {
      "cell_type": "code",
      "execution_count": 17,
      "metadata": {
        "colab": {
          "base_uri": "https://localhost:8080/",
          "height": 401
        },
        "id": "pPRC9y9hlRGx",
        "outputId": "2fc089d1-15e7-492f-b13b-8dd9cd8bec34"
      },
      "outputs": [
        {
          "output_type": "stream",
          "name": "stderr",
          "text": [
            "<ipython-input-17-b816022c4033>:9: DeprecationWarning: __array_wrap__ must accept context and return_scalar arguments (positionally) in the future. (Deprecated NumPy 2.0)\n",
            "  gaussian_data_x = x + np.random.normal(\n",
            "<ipython-input-17-b816022c4033>:18: UserWarning: To copy construct from a tensor, it is recommended to use sourceTensor.clone().detach() or sourceTensor.clone().detach().requires_grad_(True), rather than torch.tensor(sourceTensor).\n",
            "  gaussian_data_x = torch.tensor(gaussian_data_x)         # 파이토치 텐서로 변환\n"
          ]
        },
        {
          "output_type": "display_data",
          "data": {
            "text/plain": [
              "<Figure size 640x480 with 2 Axes>"
            ],
            "image/png": "[encoded data removed]"
          },
          "metadata": {}
        }
      ],
      "source": [
        "import matplotlib.pyplot as plt\n",
        "import numpy as np\n",
        "import torch\n",
        "\n",
        "from torchvision.datasets.mnist import MNIST\n",
        "from torchvision.transforms import ToTensor\n",
        "\n",
        "def gaussian_noise(x, scale = 0.8):   # 이미지에 가우시안 노이즈를 추가하는 함수\n",
        "    gaussian_data_x = x + np.random.normal(\n",
        "        loc = 0,        # 평균이 0이고\n",
        "        scale = scale,  # 표준편차 scale인 (기본값 0.8)\n",
        "        size = x.shape) # 입력 이미지와 같은 크기의 가우시안 노이즈를 생성하여 더함\n",
        "\n",
        "    gaussian_data_x = np.clip(\n",
        "        gaussian_data_x, 0, 1)    # 노이즈 추가 후, 값이 0~1 범위를 넘지 않도록 클리핑\n",
        "        # 여기에서 0 미만, 1 초과되는 이상치를 제거함\n",
        "\n",
        "    gaussian_data_x = torch.tensor(gaussian_data_x)         # 파이토치 텐서로 변환\n",
        "    gaussian_data_x = gaussian_data_x.type(torch.FloatTensor)   # float 타입으로 명시적 변환 pytorch에서 모델에 입력되는 텐서는 float형이여야 연산 가능\n",
        "\n",
        "    return gaussian_data_x\n",
        "\n",
        "# 학습 데이터 정의 (MNIST 훈련용 이미지 로딩)\n",
        "training_data = MNIST(\n",
        "    root= \"./\",\n",
        "    train = True,   # 훈련 데이터 불러오기\n",
        "    download = True,\n",
        "    transform = ToTensor()\n",
        ")\n",
        "# 평가 데이터 정의 (MNIST 테스트용 이미지 로딩)\n",
        "test_data = MNIST(\n",
        "    root = \"./\",\n",
        "    train = False,  # 평가 데이터 불러오기\n",
        "    download = True,\n",
        "    transform = ToTensor()\n",
        ")\n",
        "\n",
        "# 첫번째 원본 이미지 가져오기 (텐서가 아니라 numpy 배열 형태로 저장된 원본 데이터 사용)\n",
        "img = training_data.data[0] # 크기: [28, 28], 값: 0~255 (uint8) 밝기\n",
        "\n",
        "# 잡음이 섞인 이미지로 변환 (float으로 변환하여 0~1 범위로 정규화된 이미지 생성)\n",
        "gaussian = gaussian_noise(img)\n",
        "\n",
        "# 두 이미지 출력: 원본과 노이즈 이미지 비교 시각화\n",
        "plt.subplot(1, 2, 1)\n",
        "plt.title(\"original image\")\n",
        "plt.imshow(img)\n",
        "\n",
        "plt.subplot(1, 2, 2)\n",
        "plt.title(\"gaussian noise image\")\n",
        "plt.imshow(gaussian)\n",
        "plt.show()\n"
      ]
    },
    {
      "cell_type": "code",
      "source": [
        "from logging import root\n",
        "from torch.utils.data.dataset import Dataset\n",
        "\n",
        "class Denoising(Dataset):\n",
        "    def __init__(self):\n",
        "      # 원본 이미지를 담고있는 MNIST 데이터\n",
        "        self.mnist = MNIST(\n",
        "            root = \"./\",\n",
        "            train = True,     # 훈련데이터 사용\n",
        "            download = True,\n",
        "            transform = ToTensor()\n",
        "        )\n",
        "        self.data = []  # 잡음이 추가된 이미지들을 저장할 리스트\n",
        "\n",
        "        # 모든 이미지에 잡음 입히기\n",
        "        for i in range(len(self.mnist)):\n",
        "            noisy_input = gaussian_noise(self.mnist.data[i])    # 가우시안 노이즈 추가\n",
        "            input_tensor = torch.tensor(noisy_input)   # 텐서로 변환\n",
        "            self.data.append(torch.unsqueeze(input_tensor, dim =0))\n",
        "            # [28, 28] -> [1, 28, 28]로 차원 추가 (채널 차원), Conv2d 입력 형태에 맞추기 위함\n",
        "\n",
        "    def __len__(self):\n",
        "        return len(self.data)   # 전체 데이터 길이 반환\n",
        "\n",
        "    def __getitem__(self, i):\n",
        "        data = self.data[i] # 노이즈가 낀 이미지\n",
        "\n",
        "        # 원본 이미지를 0~1 범위로 정규화하여 label로 사용\n",
        "        label = self.mnist.data[i]/255\n",
        "\n",
        "        return data, label  # (입력: 노이즈 이미지, 출력: 깨끗한 원본 이미지)\n",
        "\n"
      ],
      "metadata": {
        "id": "Lr7DmNGTllqL"
      },
      "execution_count": 18,
      "outputs": []
    },
    {
      "cell_type": "code",
      "source": [
        "import torch.nn as nn\n",
        "\n",
        "class BasicBlock(nn.Module):   # CNN 블록을 이용\n",
        "  def __init__(self, in_channels, out_channels, hidden_dim):\n",
        "    super(BasicBlock, self).__init__()\n",
        "\n",
        "    # 첫 번째 합성곱 레이어\n",
        "    self.conv1 = nn.Conv2d(\n",
        "        in_channels,  # 입력 채널 수\n",
        "        hidden_dim,   # 은닉 채널 수 (중간 레이어 채널)\n",
        "        kernel_size = 3,   # 커널 크기 3X3 필터\n",
        "        padding = 1        # 패딩 출력 크기 유지를 위해 적용\n",
        "    )\n",
        "\n",
        "    # 두 번째 합성곱 레이어\n",
        "    self.conv2 = nn.Conv2d(\n",
        "        hidden_dim,   # 앞 레이어의 출력이 입력 채널이 됨\n",
        "        out_channels, # 이 블록의 최종 출력 채널 수\n",
        "        kernel_size = 3,   # 커널 크기 3X3 필터\n",
        "        padding = 1        # 패딩 출력 크기 유지를 위해 적용\n",
        "    )\n",
        "\n",
        "    # ReLU 활성화 함수\n",
        "    self.relu = nn.ReLU()\n",
        "\n",
        "  def forward(self, x):\n",
        "    x = self.conv1(x)\n",
        "    x = self.relu(x)\n",
        "    x = self.conv2(x)\n",
        "    x = self.relu(x)\n",
        "\n",
        "    return x"
      ],
      "metadata": {
        "id": "UmdHQa6apvLL"
      },
      "execution_count": 19,
      "outputs": []
    },
    {
      "cell_type": "code",
      "source": [
        "class Encoder(nn.Module):\n",
        "  def __init__(self):\n",
        "    super(Encoder, self).__init__()\n",
        "\n",
        "    # 입력 채널이 1인 것에 주의 -> 흑백 이미지이기 때문\n",
        "    self.conv1 = BasicBlock(in_channels = 1, out_channels = 16, hidden_dim = 16)\n",
        "    self.conv2 = BasicBlock(in_channels = 16, out_channels = 8, hidden_dim = 8)\n",
        "\n",
        "    self.pool = nn.AvgPool2d(kernel_size = 2, stride = 2) # 2X2 평균 풀링(해상도 절반으로 줄임 )\n",
        "\n",
        "  def forward(self, x): # 합성곱층을 거치고 풀링을 해줌\n",
        "    x = self.conv1(x)   # 1채널 -> 16채널\n",
        "    x = self.pool(x)    # 28 * 28 -> 14 * 14\n",
        "    x = self.conv2(x)   # 16채널 -> 8채널\n",
        "    x = self.pool(x)    # 14 * 14 -> 7*7\n",
        "\n",
        "    return x\n",
        "\n",
        "\n",
        "class Decoder(nn.Module):\n",
        "  def __init__(self):\n",
        "    super(Decoder, self).__init__()\n",
        "\n",
        "    # 디코더 입력: 8채널 * (7*7) latent vector\n",
        "    self.conv1 = BasicBlock(in_channels = 8, out_channels = 8, hidden_dim = 8)\n",
        "    self.conv2 = BasicBlock(in_channels = 8, out_channels = 16, hidden_dim = 16)\n",
        "\n",
        "    # 출력층은 BasicBlock이 아닌 합성곱층 (출력 채널을 1로 맞춰줌)\n",
        "    self.conv3 = nn.Conv2d(in_channels= 16, out_channels= 1, kernel_size=3, padding = 1)\n",
        "\n",
        "    # 업샘플링\n",
        "    self.upsampling1 = nn.ConvTranspose2d(8, 8, kernel_size=2, stride=2)\n",
        "    self.upsampling2 = nn.ConvTranspose2d(16, 16, kernel_size=2, stride=2)\n",
        "\n",
        "  # 입력 크기를 키우는 업샘플링 이용\n",
        "  def forward(self, x):\n",
        "    # 디코더 입력값은  8 * 7 * 7\n",
        "    x = self.conv1(x)\n",
        "    x = self.upsampling1(x) # 7*7 -> 14 * 14\n",
        "    x = self.conv2(x)\n",
        "    x = self.upsampling2(x) # 14 * 14 -> 28 * 28\n",
        "    x = self.conv3(x)     # 채널수 1로 줄임\n",
        "\n",
        "    return x\n",
        "\n",
        "class CAE(nn.Module):\n",
        "  def __init__(self):\n",
        "    super(CAE, self).__init__()\n",
        "\n",
        "    self.enc = Encoder()    # 인코더 층의 정의 (입력을 latent feature로 압축)\n",
        "    self.dec = Decoder()    # 디코더 층의 정의 (latent feature를 다시 원본 이미지로 복원)\n",
        "\n",
        "  def forward(self, x):     # 인코더, 디코더를 거친 후, 채널 차원을 삭제\n",
        "    x = self.enc(x)         # 입력 이미지 -> batch_size * 8 * 7 * 7\n",
        "    x = self.dec(x)         # batch_size * 8 * 7 * 7 -> batch_size * 1 * 28 * 28\n",
        "    x = torch.squeeze(x)    # 채널 차원 삭제: -> batch_size * 28 * 28\n",
        "\n",
        "    return x"
      ],
      "metadata": {
        "id": "dCQawMjgrRsa"
      },
      "execution_count": 20,
      "outputs": []
    },
    {
      "cell_type": "code",
      "source": [
        "import tqdm\n",
        "\n",
        "from torch.utils.data.dataloader import DataLoader\n",
        "from torch.optim.adam import Adam\n",
        "\n",
        "device = \"cuda\" if torch.cuda.is_available() else \"cpu\"\n",
        "print(f\"Using {device} device\")\n",
        "\n",
        "# Denoising AutoEncoder 학습용 데이터셋 불러오기\n",
        "trainset = Denoising()   # 학습에 이용할 데이터셋\n",
        "train_loader = DataLoader(trainset, batch_size = 32) # 한 번에 이미지 32장 사용\n",
        "\n",
        "# 오토인코더 모델 생성 및 GPU에 업로드\n",
        "model = CAE().to(device)\n",
        "\n",
        "# 학습률과 최적화를 정의\n",
        "lr = 0.001\n",
        "optim = Adam(params = model.parameters(), lr = lr)\n",
        "\n",
        "for epoch in range(20):\n",
        "  iterator = tqdm.tqdm(train_loader)\n",
        "\n",
        "  for data, label in iterator:\n",
        "    optim.zero_grad()   # 매 배치마다 기울기를 초기화해서 잘못된 방향으로 학습하지 않도록 방지\n",
        "    pred = model(data.to(device))    # 모델 예측 (노이즈 -> 복원된 이미지)\n",
        "\n",
        "    loss = nn.MSELoss()(torch.squeeze(pred), label.to(device)) # 손실의 계산\n",
        "    # (픽셀 단위로 차이를 구함)\n",
        "    loss.backward() # 오차 역전파\n",
        "    optim.step()    # 최적화\n",
        "    iterator.set_description(f\"epoch{epoch+1} loss: {loss.item()}\")\n",
        "\n",
        "torch.save(model.state_dict(), \"CAE.pth\")  # 모델의 가중치 저장\n",
        "model.cpu()   # 모델의 출력값을 cpu로 이동\n",
        "\n",
        "with torch.no_grad():\n",
        "  # 학습이 완료된 가중치를 불러오기\n",
        "  model.load_state_dict(torch.load(\"CAE.pth\", map_location = device))\n",
        "  img = test_data.data[0]           # 테스트 이미지 하나 선택 (정답 이미지)\n",
        "  gaussian = gaussian_noise(img)    # 이미지에 가우스 잡음을 입히기\n",
        "\n",
        "  # 모델 입력 형태로 맞추기: [1, 1, 28, 28] 형태\n",
        "  input = torch.unsqueeze(gaussian, dim =0)\n",
        "  input.type(torch.FloatTensor)   # 모델과 동일한 데이터 타입 (float32) 로 변환\n",
        "  input.to(device)\n",
        "  input = torch.unsqueeze(input, dim =0)  # 배치 크기 1을 위한 배치 차원을 추가\n",
        "\n",
        "  # 시각화: 왼쪽부터 (노이즈 이미지 / 복원된 이미지 / 원본 이미지 )\n",
        "  plt.subplot(1, 3, 1)\n",
        "  plt.title(\"gaussian noise image\")\n",
        "  plt.imshow(torch.squeeze(gaussian))\n",
        "  plt.subplot(1, 3, 2)\n",
        "  plt.title(\"denoised image\")\n",
        "  plt.imshow(torch.squeeze(model(input)))\n",
        "  plt.subplot(1, 3, 3)\n",
        "  plt.title(\"original image\")\n",
        "  plt.imshow(torch.squeeze(img))\n",
        "  plt.show()"
      ],
      "metadata": {
        "colab": {
          "base_uri": "https://localhost:8080/",
          "height": 702
        },
        "id": "T1U2lysGthn5",
        "outputId": "954bcf10-5b65-41c8-c3a5-3e504bcc286a"
      },
      "execution_count": 26,
      "outputs": [
        {
          "output_type": "stream",
          "name": "stdout",
          "text": [
            "Using cuda device\n"
          ]
        },
        {
          "output_type": "stream",
          "name": "stderr",
          "text": [
            "<ipython-input-17-b816022c4033>:9: DeprecationWarning: __array_wrap__ must accept context and return_scalar arguments (positionally) in the future. (Deprecated NumPy 2.0)\n",
            "  gaussian_data_x = x + np.random.normal(\n",
            "<ipython-input-17-b816022c4033>:18: UserWarning: To copy construct from a tensor, it is recommended to use sourceTensor.clone().detach() or sourceTensor.clone().detach().requires_grad_(True), rather than torch.tensor(sourceTensor).\n",
            "  gaussian_data_x = torch.tensor(gaussian_data_x)         # 파이토치 텐서로 변환\n",
            "epoch1 loss: 0.013608715496957302: 100%|██████████| 1875/1875 [00:12<00:00, 155.19it/s]\n",
            "epoch2 loss: 0.011516290716826916: 100%|██████████| 1875/1875 [00:11<00:00, 156.45it/s]\n",
            "epoch3 loss: 0.01081504113972187: 100%|██████████| 1875/1875 [00:11<00:00, 157.95it/s]\n",
            "epoch4 loss: 0.010199587792158127: 100%|██████████| 1875/1875 [00:11<00:00, 156.69it/s]\n",
            "epoch5 loss: 0.009935515932738781: 100%|██████████| 1875/1875 [00:11<00:00, 156.87it/s]\n",
            "epoch6 loss: 0.0098837586119771: 100%|██████████| 1875/1875 [00:11<00:00, 156.60it/s]\n",
            "epoch7 loss: 0.009840881451964378: 100%|██████████| 1875/1875 [00:12<00:00, 155.94it/s]\n",
            "epoch8 loss: 0.009412860497832298: 100%|██████████| 1875/1875 [00:11<00:00, 156.60it/s]\n",
            "epoch9 loss: 0.009200229309499264: 100%|██████████| 1875/1875 [00:11<00:00, 158.00it/s]\n",
            "epoch10 loss: 0.00885993242263794: 100%|██████████| 1875/1875 [00:11<00:00, 157.19it/s]\n",
            "epoch11 loss: 0.008288020268082619: 100%|██████████| 1875/1875 [00:11<00:00, 158.67it/s]\n",
            "epoch12 loss: 0.008229626342654228: 100%|██████████| 1875/1875 [00:11<00:00, 159.22it/s]\n",
            "epoch13 loss: 0.008093227632343769: 100%|██████████| 1875/1875 [00:11<00:00, 156.27it/s]\n",
            "epoch14 loss: 0.007964692078530788: 100%|██████████| 1875/1875 [00:12<00:00, 150.05it/s]\n",
            "epoch15 loss: 0.0078125586733222: 100%|██████████| 1875/1875 [00:11<00:00, 157.91it/s]\n",
            "epoch16 loss: 0.0077883778139948845: 100%|██████████| 1875/1875 [00:11<00:00, 159.74it/s]\n",
            "epoch17 loss: 0.007890543900430202: 100%|██████████| 1875/1875 [00:11<00:00, 156.69it/s]\n",
            "epoch18 loss: 0.007833252660930157: 100%|██████████| 1875/1875 [00:12<00:00, 156.11it/s]\n",
            "epoch19 loss: 0.007811777293682098: 100%|██████████| 1875/1875 [00:11<00:00, 158.05it/s]\n",
            "epoch20 loss: 0.007632244378328323: 100%|██████████| 1875/1875 [00:11<00:00, 157.05it/s]\n"
          ]
        },
        {
          "output_type": "display_data",
          "data": {
            "text/plain": [
              "<Figure size 640x480 with 3 Axes>"
            ],
            "image/png": "[encoded data removed]"
          },
          "metadata": {}
        }
      ]
    }
  ]
}