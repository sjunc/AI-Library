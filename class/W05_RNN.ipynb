{
  "nbformat": 4,
  "nbformat_minor": 0,
  "metadata": {
    "colab": {
      "provenance": [],
      "gpuType": "T4",
      "authorship_tag": "ABX9TyOxWu9+E7jAFz4cSwn5RFdj",
      "include_colab_link": true
    },
    "kernelspec": {
      "name": "python3",
      "display_name": "Python 3"
    },
    "language_info": {
      "name": "python"
    },
    "accelerator": "GPU"
  },
  "cells": [
    {
      "cell_type": "markdown",
      "metadata": {
        "id": "view-in-github",
        "colab_type": "text"
      },
      "source": [
        "<a href=\"https://colab.research.google.com/github/sjunc/AI-Library/blob/main/class/W05_RNN.ipynb\" target=\"_parent\"><img src=\"https://colab.research.google.com/assets/colab-badge.svg\" alt=\"Open In Colab\"/></a>"
      ]
    },
    {
      "cell_type": "markdown",
      "source": [
        "# 05주차 실습 RNN"
      ],
      "metadata": {
        "id": "OjEb7cP3Ywea"
      }
    },
    {
      "cell_type": "markdown",
      "source": [
        "## 넷플릭스 주가 예측"
      ],
      "metadata": {
        "id": "I7e8nXJCZHXl"
      }
    },
    {
      "cell_type": "markdown",
      "source": [
        "시작가, 최고가, 최저가, 총, 마지막 가격"
      ],
      "metadata": {
        "id": "VhyI92mzY8RB"
      }
    },
    {
      "cell_type": "code",
      "execution_count": 3,
      "metadata": {
        "colab": {
          "base_uri": "https://localhost:8080/",
          "height": 206
        },
        "id": "jv7d2TGRLhXr",
        "outputId": "f054d571-94e0-4142-824c-1d4326fd00b9"
      },
      "outputs": [
        {
          "output_type": "execute_result",
          "data": {
            "text/plain": [
              "         Date  Open  High  Low    Volume  Close\n",
              "0  2015-12-16   120   123  118  13181000    123\n",
              "1  2015-12-17   124   126  122  17284900    123\n",
              "2  2015-12-18   121   122  118  17948100    118\n",
              "3  2015-12-21   120   120  116  11670000    117\n",
              "4  2015-12-22   117   117  115   9689000    116"
            ],
            "text/html": [
              "\n",
              "  <div id=\"df-0e0461fd-cae4-47ee-a0cf-88771e2a6a25\" class=\"colab-df-container\">\n",
              "    <div>\n",
              "<style scoped>\n",
              "    .dataframe tbody tr th:only-of-type {\n",
              "        vertical-align: middle;\n",
              "    }\n",
              "\n",
              "    .dataframe tbody tr th {\n",
              "        vertical-align: top;\n",
              "    }\n",
              "\n",
              "    .dataframe thead th {\n",
              "        text-align: right;\n",
              "    }\n",
              "</style>\n",
              "<table border=\"1\" class=\"dataframe\">\n",
              "  <thead>\n",
              "    <tr style=\"text-align: right;\">\n",
              "      <th></th>\n",
              "      <th>Date</th>\n",
              "      <th>Open</th>\n",
              "      <th>High</th>\n",
              "      <th>Low</th>\n",
              "      <th>Volume</th>\n",
              "      <th>Close</th>\n",
              "    </tr>\n",
              "  </thead>\n",
              "  <tbody>\n",
              "    <tr>\n",
              "      <th>0</th>\n",
              "      <td>2015-12-16</td>\n",
              "      <td>120</td>\n",
              "      <td>123</td>\n",
              "      <td>118</td>\n",
              "      <td>13181000</td>\n",
              "      <td>123</td>\n",
              "    </tr>\n",
              "    <tr>\n",
              "      <th>1</th>\n",
              "      <td>2015-12-17</td>\n",
              "      <td>124</td>\n",
              "      <td>126</td>\n",
              "      <td>122</td>\n",
              "      <td>17284900</td>\n",
              "      <td>123</td>\n",
              "    </tr>\n",
              "    <tr>\n",
              "      <th>2</th>\n",
              "      <td>2015-12-18</td>\n",
              "      <td>121</td>\n",
              "      <td>122</td>\n",
              "      <td>118</td>\n",
              "      <td>17948100</td>\n",
              "      <td>118</td>\n",
              "    </tr>\n",
              "    <tr>\n",
              "      <th>3</th>\n",
              "      <td>2015-12-21</td>\n",
              "      <td>120</td>\n",
              "      <td>120</td>\n",
              "      <td>116</td>\n",
              "      <td>11670000</td>\n",
              "      <td>117</td>\n",
              "    </tr>\n",
              "    <tr>\n",
              "      <th>4</th>\n",
              "      <td>2015-12-22</td>\n",
              "      <td>117</td>\n",
              "      <td>117</td>\n",
              "      <td>115</td>\n",
              "      <td>9689000</td>\n",
              "      <td>116</td>\n",
              "    </tr>\n",
              "  </tbody>\n",
              "</table>\n",
              "</div>\n",
              "    <div class=\"colab-df-buttons\">\n",
              "\n",
              "  <div class=\"colab-df-container\">\n",
              "    <button class=\"colab-df-convert\" onclick=\"convertToInteractive('df-0e0461fd-cae4-47ee-a0cf-88771e2a6a25')\"\n",
              "            title=\"Convert this dataframe to an interactive table.\"\n",
              "            style=\"display:none;\">\n",
              "\n",
              "  <svg xmlns=\"http://www.w3.org/2000/svg\" height=\"24px\" viewBox=\"0 -960 960 960\">\n",
              "    <path d=\"M120-120v-720h720v720H120Zm60-500h600v-160H180v160Zm220 220h160v-160H400v160Zm0 220h160v-160H400v160ZM180-400h160v-160H180v160Zm440 0h160v-160H620v160ZM180-180h160v-160H180v160Zm440 0h160v-160H620v160Z\"/>\n",
              "  </svg>\n",
              "    </button>\n",
              "\n",
              "  <style>\n",
              "    .colab-df-container {\n",
              "      display:flex;\n",
              "      gap: 12px;\n",
              "    }\n",
              "\n",
              "    .colab-df-convert {\n",
              "      background-color: #E8F0FE;\n",
              "      border: none;\n",
              "      border-radius: 50%;\n",
              "      cursor: pointer;\n",
              "      display: none;\n",
              "      fill: #1967D2;\n",
              "      height: 32px;\n",
              "      padding: 0 0 0 0;\n",
              "      width: 32px;\n",
              "    }\n",
              "\n",
              "    .colab-df-convert:hover {\n",
              "      background-color: #E2EBFA;\n",
              "      box-shadow: 0px 1px 2px rgba(60, 64, 67, 0.3), 0px 1px 3px 1px rgba(60, 64, 67, 0.15);\n",
              "      fill: #174EA6;\n",
              "    }\n",
              "\n",
              "    .colab-df-buttons div {\n",
              "      margin-bottom: 4px;\n",
              "    }\n",
              "\n",
              "    [theme=dark] .colab-df-convert {\n",
              "      background-color: #3B4455;\n",
              "      fill: #D2E3FC;\n",
              "    }\n",
              "\n",
              "    [theme=dark] .colab-df-convert:hover {\n",
              "      background-color: #434B5C;\n",
              "      box-shadow: 0px 1px 3px 1px rgba(0, 0, 0, 0.15);\n",
              "      filter: drop-shadow(0px 1px 2px rgba(0, 0, 0, 0.3));\n",
              "      fill: #FFFFFF;\n",
              "    }\n",
              "  </style>\n",
              "\n",
              "    <script>\n",
              "      const buttonEl =\n",
              "        document.querySelector('#df-0e0461fd-cae4-47ee-a0cf-88771e2a6a25 button.colab-df-convert');\n",
              "      buttonEl.style.display =\n",
              "        google.colab.kernel.accessAllowed ? 'block' : 'none';\n",
              "\n",
              "      async function convertToInteractive(key) {\n",
              "        const element = document.querySelector('#df-0e0461fd-cae4-47ee-a0cf-88771e2a6a25');\n",
              "        const dataTable =\n",
              "          await google.colab.kernel.invokeFunction('convertToInteractive',\n",
              "                                                    [key], {});\n",
              "        if (!dataTable) return;\n",
              "\n",
              "        const docLinkHtml = 'Like what you see? Visit the ' +\n",
              "          '<a target=\"_blank\" href=https://colab.research.google.com/notebooks/data_table.ipynb>data table notebook</a>'\n",
              "          + ' to learn more about interactive tables.';\n",
              "        element.innerHTML = '';\n",
              "        dataTable['output_type'] = 'display_data';\n",
              "        await google.colab.output.renderOutput(dataTable, element);\n",
              "        const docLink = document.createElement('div');\n",
              "        docLink.innerHTML = docLinkHtml;\n",
              "        element.appendChild(docLink);\n",
              "      }\n",
              "    </script>\n",
              "  </div>\n",
              "\n",
              "\n",
              "<div id=\"df-02fc2ecb-f090-4388-a64a-991bce8f429f\">\n",
              "  <button class=\"colab-df-quickchart\" onclick=\"quickchart('df-02fc2ecb-f090-4388-a64a-991bce8f429f')\"\n",
              "            title=\"Suggest charts\"\n",
              "            style=\"display:none;\">\n",
              "\n",
              "<svg xmlns=\"http://www.w3.org/2000/svg\" height=\"24px\"viewBox=\"0 0 24 24\"\n",
              "     width=\"24px\">\n",
              "    <g>\n",
              "        <path d=\"M19 3H5c-1.1 0-2 .9-2 2v14c0 1.1.9 2 2 2h14c1.1 0 2-.9 2-2V5c0-1.1-.9-2-2-2zM9 17H7v-7h2v7zm4 0h-2V7h2v10zm4 0h-2v-4h2v4z\"/>\n",
              "    </g>\n",
              "</svg>\n",
              "  </button>\n",
              "\n",
              "<style>\n",
              "  .colab-df-quickchart {\n",
              "      --bg-color: #E8F0FE;\n",
              "      --fill-color: #1967D2;\n",
              "      --hover-bg-color: #E2EBFA;\n",
              "      --hover-fill-color: #174EA6;\n",
              "      --disabled-fill-color: #AAA;\n",
              "      --disabled-bg-color: #DDD;\n",
              "  }\n",
              "\n",
              "  [theme=dark] .colab-df-quickchart {\n",
              "      --bg-color: #3B4455;\n",
              "      --fill-color: #D2E3FC;\n",
              "      --hover-bg-color: #434B5C;\n",
              "      --hover-fill-color: #FFFFFF;\n",
              "      --disabled-bg-color: #3B4455;\n",
              "      --disabled-fill-color: #666;\n",
              "  }\n",
              "\n",
              "  .colab-df-quickchart {\n",
              "    background-color: var(--bg-color);\n",
              "    border: none;\n",
              "    border-radius: 50%;\n",
              "    cursor: pointer;\n",
              "    display: none;\n",
              "    fill: var(--fill-color);\n",
              "    height: 32px;\n",
              "    padding: 0;\n",
              "    width: 32px;\n",
              "  }\n",
              "\n",
              "  .colab-df-quickchart:hover {\n",
              "    background-color: var(--hover-bg-color);\n",
              "    box-shadow: 0 1px 2px rgba(60, 64, 67, 0.3), 0 1px 3px 1px rgba(60, 64, 67, 0.15);\n",
              "    fill: var(--button-hover-fill-color);\n",
              "  }\n",
              "\n",
              "  .colab-df-quickchart-complete:disabled,\n",
              "  .colab-df-quickchart-complete:disabled:hover {\n",
              "    background-color: var(--disabled-bg-color);\n",
              "    fill: var(--disabled-fill-color);\n",
              "    box-shadow: none;\n",
              "  }\n",
              "\n",
              "  .colab-df-spinner {\n",
              "    border: 2px solid var(--fill-color);\n",
              "    border-color: transparent;\n",
              "    border-bottom-color: var(--fill-color);\n",
              "    animation:\n",
              "      spin 1s steps(1) infinite;\n",
              "  }\n",
              "\n",
              "  @keyframes spin {\n",
              "    0% {\n",
              "      border-color: transparent;\n",
              "      border-bottom-color: var(--fill-color);\n",
              "      border-left-color: var(--fill-color);\n",
              "    }\n",
              "    20% {\n",
              "      border-color: transparent;\n",
              "      border-left-color: var(--fill-color);\n",
              "      border-top-color: var(--fill-color);\n",
              "    }\n",
              "    30% {\n",
              "      border-color: transparent;\n",
              "      border-left-color: var(--fill-color);\n",
              "      border-top-color: var(--fill-color);\n",
              "      border-right-color: var(--fill-color);\n",
              "    }\n",
              "    40% {\n",
              "      border-color: transparent;\n",
              "      border-right-color: var(--fill-color);\n",
              "      border-top-color: var(--fill-color);\n",
              "    }\n",
              "    60% {\n",
              "      border-color: transparent;\n",
              "      border-right-color: var(--fill-color);\n",
              "    }\n",
              "    80% {\n",
              "      border-color: transparent;\n",
              "      border-right-color: var(--fill-color);\n",
              "      border-bottom-color: var(--fill-color);\n",
              "    }\n",
              "    90% {\n",
              "      border-color: transparent;\n",
              "      border-bottom-color: var(--fill-color);\n",
              "    }\n",
              "  }\n",
              "</style>\n",
              "\n",
              "  <script>\n",
              "    async function quickchart(key) {\n",
              "      const quickchartButtonEl =\n",
              "        document.querySelector('#' + key + ' button');\n",
              "      quickchartButtonEl.disabled = true;  // To prevent multiple clicks.\n",
              "      quickchartButtonEl.classList.add('colab-df-spinner');\n",
              "      try {\n",
              "        const charts = await google.colab.kernel.invokeFunction(\n",
              "            'suggestCharts', [key], {});\n",
              "      } catch (error) {\n",
              "        console.error('Error during call to suggestCharts:', error);\n",
              "      }\n",
              "      quickchartButtonEl.classList.remove('colab-df-spinner');\n",
              "      quickchartButtonEl.classList.add('colab-df-quickchart-complete');\n",
              "    }\n",
              "    (() => {\n",
              "      let quickchartButtonEl =\n",
              "        document.querySelector('#df-02fc2ecb-f090-4388-a64a-991bce8f429f button');\n",
              "      quickchartButtonEl.style.display =\n",
              "        google.colab.kernel.accessAllowed ? 'block' : 'none';\n",
              "    })();\n",
              "  </script>\n",
              "</div>\n",
              "\n",
              "    </div>\n",
              "  </div>\n"
            ],
            "application/vnd.google.colaboratory.intrinsic+json": {
              "type": "dataframe",
              "variable_name": "data",
              "summary": "{\n  \"name\": \"data\",\n  \"rows\": 967,\n  \"fields\": [\n    {\n      \"column\": \"Date\",\n      \"properties\": {\n        \"dtype\": \"object\",\n        \"num_unique_values\": 967,\n        \"samples\": [\n          \"2016-12-05\",\n          \"2017-10-24\",\n          \"2019-04-15\"\n        ],\n        \"semantic_type\": \"\",\n        \"description\": \"\"\n      }\n    },\n    {\n      \"column\": \"Open\",\n      \"properties\": {\n        \"dtype\": \"number\",\n        \"std\": 104,\n        \"min\": 81,\n        \"max\": 421,\n        \"num_unique_values\": 272,\n        \"samples\": [\n          99,\n          208,\n          183\n        ],\n        \"semantic_type\": \"\",\n        \"description\": \"\"\n      }\n    },\n    {\n      \"column\": \"High\",\n      \"properties\": {\n        \"dtype\": \"number\",\n        \"std\": 106,\n        \"min\": 85,\n        \"max\": 423,\n        \"num_unique_values\": 259,\n        \"samples\": [\n          165,\n          131,\n          114\n        ],\n        \"semantic_type\": \"\",\n        \"description\": \"\"\n      }\n    },\n    {\n      \"column\": \"Low\",\n      \"properties\": {\n        \"dtype\": \"number\",\n        \"std\": 102,\n        \"min\": 80,\n        \"max\": 413,\n        \"num_unique_values\": 261,\n        \"samples\": [\n          103,\n          320,\n          341\n        ],\n        \"semantic_type\": \"\",\n        \"description\": \"\"\n      }\n    },\n    {\n      \"column\": \"Volume\",\n      \"properties\": {\n        \"dtype\": \"number\",\n        \"std\": 6467709,\n        \"min\": 1616300,\n        \"max\": 58410400,\n        \"num_unique_values\": 964,\n        \"samples\": [\n          12235200,\n          4138600,\n          6583100\n        ],\n        \"semantic_type\": \"\",\n        \"description\": \"\"\n      }\n    },\n    {\n      \"column\": \"Close\",\n      \"properties\": {\n        \"dtype\": \"number\",\n        \"std\": 104,\n        \"min\": 83,\n        \"max\": 419,\n        \"num_unique_values\": 264,\n        \"samples\": [\n          159,\n          384,\n          183\n        ],\n        \"semantic_type\": \"\",\n        \"description\": \"\"\n      }\n    }\n  ]\n}"
            }
          },
          "metadata": {},
          "execution_count": 3
        }
      ],
      "source": [
        "import pandas as pd\n",
        "\n",
        "data = pd.read_csv(\"NetflixStock.csv\")  # 데이터 파일을 읽어옴\n",
        "data.head()  # 5개의 데이터를 표시"
      ]
    },
    {
      "cell_type": "code",
      "source": [
        "data.info() #결측치 여부 등 파악"
      ],
      "metadata": {
        "colab": {
          "base_uri": "https://localhost:8080/"
        },
        "id": "M17L9Us7ZPkC",
        "outputId": "b9ae1361-a1be-4e5f-f30a-c9bf45796378"
      },
      "execution_count": 4,
      "outputs": [
        {
          "output_type": "stream",
          "name": "stdout",
          "text": [
            "<class 'pandas.core.frame.DataFrame'>\n",
            "RangeIndex: 967 entries, 0 to 966\n",
            "Data columns (total 6 columns):\n",
            " #   Column  Non-Null Count  Dtype \n",
            "---  ------  --------------  ----- \n",
            " 0   Date    967 non-null    object\n",
            " 1   Open    967 non-null    int64 \n",
            " 2   High    967 non-null    int64 \n",
            " 3   Low     967 non-null    int64 \n",
            " 4   Volume  967 non-null    int64 \n",
            " 5   Close   967 non-null    int64 \n",
            "dtypes: int64(5), object(1)\n",
            "memory usage: 45.5+ KB\n"
          ]
        }
      ]
    },
    {
      "cell_type": "code",
      "source": [
        "import matplotlib.pyplot as plt\n",
        "\n",
        "data_used = data.iloc[:, 1:4] # 개장가, 최고가, 최저가 추가\n",
        "data_used[\"Close\"] = data[\"Close\"] # 종가 추가\n",
        "hist = data_used.hist()\n",
        "plt.show()"
      ],
      "metadata": {
        "colab": {
          "base_uri": "https://localhost:8080/",
          "height": 452
        },
        "id": "3FoGETZLZelZ",
        "outputId": "62a57248-b188-4fd4-8482-6cd3c1810f22"
      },
      "execution_count": 5,
      "outputs": [
        {
          "output_type": "display_data",
          "data": {
            "text/plain": [
              "<Figure size 640x480 with 4 Axes>"
            ],
            "image/png": "[encoded data removed]"
          },
          "metadata": {}
        }
      ]
    },
    {
      "cell_type": "code",
      "source": [
        "import numpy as np\n",
        "from torch.utils.data.dataset import Dataset\n",
        "\n",
        "# Netfilx 데이터 셋 클래스 구현\n",
        "\n",
        "class Netflix(Dataset):\n",
        "    def __init__(self):\n",
        "        self.csv = pd.read_csv(\"NetflixStock.csv\")    # 데이터 읽기\n",
        "\n",
        "        #입력 데이터 정규화 (0 ~ 1 사이로 스케일링)\n",
        "        self.data = self.csv.iloc[:, 1:4].values\n",
        "        self.data = (self.data - np.min(self.data, axis=0)) / (np.max(self.data, axis=0) - np.min(self.data, axis=0))\n",
        "\n",
        "        #종가 데이터 정규화\n",
        "        self.label = data[\"Close\"].values # 예측할 값은 종가\n",
        "        self.label = (self.label - np.min(self.label)) / (np.max(self.label) - np.min(self.label))\n",
        "\n",
        "    #데이터셋 크기 반환 함수.\n",
        "    #학습 데이터가 30일씩 슬라이싱되므로, 전체 길이에서 30을 뺀만큼만 유효한 샘플로 사용함\n",
        "    def __len__(self):\n",
        "        return len(self.data) - 30 #사용 가능한 배치 개수\n",
        "\n",
        "    #특정 index에 해당하는 샘플 반환하기\n",
        "    def __getitem__(self, i):\n",
        "        data = self.data[i:i+30] # 과거 30일치 시계열 데이터 (입력값) :: 즉, 30일씩 슬라이싱하여 입력값으로 사용할 것이다.\n",
        "        label = self.label[i+30] # 그 다음 날 종가 (예측값) #! 그 다음 30일동안의 종가가 아님!!, 단일 시점을 예측하는 것임.\n",
        "\n",
        "        return data, label\n",
        "\n"
      ],
      "metadata": {
        "id": "hNj3aHZja2Ja"
      },
      "execution_count": 6,
      "outputs": []
    },
    {
      "cell_type": "code",
      "source": [
        "#RNN 클래스 정의\n",
        "import torch\n",
        "import torch.nn as nn\n",
        "\n",
        "#RNN 모델 정의\n",
        "class RNN(nn.Module):\n",
        "\n",
        "   #모델에서 사용할 레이어 층들을 정의\n",
        "   def __init__(self):\n",
        "       super(RNN, self).__init__()\n",
        "\n",
        "\n",
        "       self.rnn1 = nn.RNN(input_size=3, hidden_size=8, num_layers=5,\n",
        "                         batch_first=True)  #RNN층의 정의\n",
        "       self.rnn2 = nn.RNN(input_size=3, hidden_size=8, num_layers=5,\n",
        "                         batch_first=True)  #RNN층의 정의\n",
        "      #(생각해보기) 왜 input_size가 3일까요? open, high와 low 값이기 때문에\n",
        "      #(알아보기) batch_first는 무슨 역할을 할까?\n",
        "\n",
        "\n",
        "       #주가를 예측하는 MLP층 정의\n",
        "       #(생각해보기) 왜 in_features가 240이어야할까?\n",
        "       self.fc1 = nn.Linear(in_features=240, out_features=64)\n",
        "       self.fc2 = nn.Linear(in_features=64, out_features=1)\n",
        "      #(생각해보기) 왜  out_features가 1인가? 하나의 값을 예측해서?\n",
        "\n",
        "       self.relu = nn.ReLU() # 활성화 함수 정의\n",
        "\n",
        "\n",
        "\n",
        "  #모델이 실제 입력값을 받아 예측을 수행하는 부\n",
        "   def forward(self, x, h0):\n",
        "       x, hn = self.rnn1(x, h0)  #RNN층의 출력 #RNN의 출력값은 (batch, 30(days), 8(hidden states) 모양임\n",
        "\n",
        "       #MLP층의 입력으로 사용될 수 있도록 모양 변경 -> (batch, 240)으로 펼치기\n",
        "       x = torch.reshape(x, (x.shape[0], -1))\n",
        "\n",
        "       # MLP 층을 이용해 종가를 예측\n",
        "       x = self.fc1(x)\n",
        "       x = self.relu(x)\n",
        "       x = self.fc2(x)\n",
        "\n",
        "       # 예측한 종가를 1차원 벡터로 표현\n",
        "       x = torch.flatten(x)\n",
        "\n",
        "       return x"
      ],
      "metadata": {
        "id": "8O0gvSGAbANr"
      },
      "execution_count": 7,
      "outputs": []
    },
    {
      "cell_type": "code",
      "source": [
        "#모델, 데이터셋 정의\n",
        "import tqdm\n",
        "\n",
        "from torch.optim.adam import Adam\n",
        "from torch.utils.data.dataloader import DataLoader\n",
        "\n",
        "device = \"cuda\" if torch.cuda.is_available() else \"cpu\"\n",
        "\n",
        "model = RNN().to(device)  # 모델의 정의\n",
        "dataset = Netflix()  # Netflix 데이터를 로딩하고 전처리한 데이터셋 사용"
      ],
      "metadata": {
        "id": "hTjJ_5cneXcS"
      },
      "execution_count": 8,
      "outputs": []
    },
    {
      "cell_type": "code",
      "source": [
        "loader = DataLoader(dataset, batch_size=32)  # 배치 단위로 데이터를 불러올 수 있도록 설정"
      ],
      "metadata": {
        "id": "m0o-pS9pedVK"
      },
      "execution_count": 9,
      "outputs": []
    },
    {
      "cell_type": "code",
      "source": [
        "optim = Adam(params=model.parameters(), lr=0.0001) # Adam 최적화 알고리즘 사용"
      ],
      "metadata": {
        "id": "8-R6P-tWegCD"
      },
      "execution_count": 10,
      "outputs": []
    },
    {
      "cell_type": "code",
      "source": [
        "for epoch in range(200):\n",
        "   iterator = tqdm.tqdm(loader)#프로그레바 표시\n",
        "   for data, label in iterator:\n",
        "       optim.zero_grad()# 기존 gradient 초기화\n",
        "\n",
        "       # 초기 은닉 상태 정의\n",
        "       h0 = torch.zeros(5, data.shape[0], 8).to(device)\n",
        "\n",
        "       # 모델 예측\n",
        "       pred = model(data.type(torch.FloatTensor).to(device), h0)\n",
        "\n",
        "       # 평균제곱오차 손실 계산\n",
        "       loss = nn.MSELoss()(pred,\n",
        "                           label.type(torch.FloatTensor).to(device))\n",
        "       loss.backward()  # 오차 역전파\n",
        "       optim.step()  # 최적화 진행(파라미터 업데이)\n",
        "\n",
        "       iterator.set_description(f\"epoch{epoch} loss:{loss.item()}\")# 진행률 표시\n",
        "\n",
        "torch.save(model.state_dict(), \"./rnn.pth\")  # 학습한 모델 가중치를 파일로 저장"
      ],
      "metadata": {
        "colab": {
          "base_uri": "https://localhost:8080/"
        },
        "id": "umk7w8tqekIN",
        "outputId": "33b6d343-cbee-45c8-f6e8-01f7a61fd895"
      },
      "execution_count": 11,
      "outputs": [
        {
          "output_type": "stream",
          "name": "stderr",
          "text": [
            "epoch0 loss:0.050624649971723557: 100%|██████████| 30/30 [00:00<00:00, 30.71it/s]\n",
            "epoch1 loss:0.016041001304984093: 100%|██████████| 30/30 [00:00<00:00, 181.52it/s]\n",
            "epoch2 loss:0.01764330081641674: 100%|██████████| 30/30 [00:00<00:00, 83.13it/s]\n",
            "epoch3 loss:0.01884029619395733: 100%|██████████| 30/30 [00:00<00:00, 68.15it/s]\n",
            "epoch4 loss:0.01880505122244358: 100%|██████████| 30/30 [00:00<00:00, 61.72it/s]\n",
            "epoch5 loss:0.01870427466928959: 100%|██████████| 30/30 [00:00<00:00, 57.73it/s]\n",
            "epoch6 loss:0.018660826608538628: 100%|██████████| 30/30 [00:00<00:00, 84.20it/s]\n",
            "epoch7 loss:0.018631475046277046: 100%|██████████| 30/30 [00:00<00:00, 103.34it/s]\n",
            "epoch8 loss:0.018604688346385956: 100%|██████████| 30/30 [00:00<00:00, 166.98it/s]\n",
            "epoch9 loss:0.018578998744487762: 100%|██████████| 30/30 [00:00<00:00, 121.79it/s]\n",
            "epoch10 loss:0.0185527540743351: 100%|██████████| 30/30 [00:00<00:00, 100.51it/s]\n",
            "epoch11 loss:0.01852387562394142: 100%|██████████| 30/30 [00:00<00:00, 135.72it/s]\n",
            "epoch12 loss:0.018490159884095192: 100%|██████████| 30/30 [00:00<00:00, 93.47it/s]\n",
            "epoch13 loss:0.018484454602003098: 100%|██████████| 30/30 [00:00<00:00, 101.26it/s]\n",
            "epoch14 loss:0.018484223634004593: 100%|██████████| 30/30 [00:00<00:00, 99.99it/s] \n",
            "epoch15 loss:0.018407108262181282: 100%|██████████| 30/30 [00:00<00:00, 93.17it/s]\n",
            "epoch16 loss:0.01830943301320076: 100%|██████████| 30/30 [00:00<00:00, 215.33it/s]\n",
            "epoch17 loss:0.018192537128925323: 100%|██████████| 30/30 [00:00<00:00, 230.43it/s]\n",
            "epoch18 loss:0.01804908737540245: 100%|██████████| 30/30 [00:00<00:00, 218.67it/s]\n",
            "epoch19 loss:0.01787152886390686: 100%|██████████| 30/30 [00:00<00:00, 218.28it/s]\n",
            "epoch20 loss:0.017650598660111427: 100%|██████████| 30/30 [00:00<00:00, 206.28it/s]\n",
            "epoch21 loss:0.017373764887452126: 100%|██████████| 30/30 [00:00<00:00, 209.01it/s]\n",
            "epoch22 loss:0.017024056985974312: 100%|██████████| 30/30 [00:00<00:00, 227.04it/s]\n",
            "epoch23 loss:0.01657744310796261: 100%|██████████| 30/30 [00:00<00:00, 216.95it/s]\n",
            "epoch24 loss:0.015999864786863327: 100%|██████████| 30/30 [00:00<00:00, 216.23it/s]\n",
            "epoch25 loss:0.01524055004119873: 100%|██████████| 30/30 [00:00<00:00, 215.46it/s]\n",
            "epoch26 loss:0.014204303734004498: 100%|██████████| 30/30 [00:00<00:00, 206.27it/s]\n",
            "epoch27 loss:0.01284632459282875: 100%|██████████| 30/30 [00:00<00:00, 207.94it/s]\n",
            "epoch28 loss:0.010932094417512417: 100%|██████████| 30/30 [00:00<00:00, 200.28it/s]\n",
            "epoch29 loss:0.008373303338885307: 100%|██████████| 30/30 [00:00<00:00, 233.40it/s]\n",
            "epoch30 loss:0.003950862213969231: 100%|██████████| 30/30 [00:00<00:00, 210.32it/s]\n",
            "epoch31 loss:0.0006788964965380728: 100%|██████████| 30/30 [00:00<00:00, 215.37it/s]\n",
            "epoch32 loss:0.00327095459215343: 100%|██████████| 30/30 [00:00<00:00, 225.31it/s]\n",
            "epoch33 loss:0.011958848685026169: 100%|██████████| 30/30 [00:00<00:00, 223.07it/s]\n",
            "epoch34 loss:0.01024481002241373: 100%|██████████| 30/30 [00:00<00:00, 205.65it/s]\n",
            "epoch35 loss:0.010870539583265781: 100%|██████████| 30/30 [00:00<00:00, 193.53it/s]\n",
            "epoch36 loss:0.010345684364438057: 100%|██████████| 30/30 [00:00<00:00, 216.46it/s]\n",
            "epoch37 loss:0.010333016514778137: 100%|██████████| 30/30 [00:00<00:00, 215.31it/s]\n",
            "epoch38 loss:0.010039547458291054: 100%|██████████| 30/30 [00:00<00:00, 218.58it/s]\n",
            "epoch39 loss:0.009641628712415695: 100%|██████████| 30/30 [00:00<00:00, 220.19it/s]\n",
            "epoch40 loss:0.009635700844228268: 100%|██████████| 30/30 [00:00<00:00, 214.64it/s]\n",
            "epoch41 loss:0.00929819606244564: 100%|██████████| 30/30 [00:00<00:00, 206.25it/s]\n",
            "epoch42 loss:0.009203051216900349: 100%|██████████| 30/30 [00:00<00:00, 199.16it/s]\n",
            "epoch43 loss:0.009008643217384815: 100%|██████████| 30/30 [00:00<00:00, 211.17it/s]\n",
            "epoch44 loss:0.008797782473266125: 100%|██████████| 30/30 [00:00<00:00, 206.51it/s]\n",
            "epoch45 loss:0.008710584603250027: 100%|██████████| 30/30 [00:00<00:00, 201.04it/s]\n",
            "epoch46 loss:0.008486900478601456: 100%|██████████| 30/30 [00:00<00:00, 215.19it/s]\n",
            "epoch47 loss:0.008364600129425526: 100%|██████████| 30/30 [00:00<00:00, 204.11it/s]\n",
            "epoch48 loss:0.008183586411178112: 100%|██████████| 30/30 [00:00<00:00, 210.40it/s]\n",
            "epoch49 loss:0.008062265813350677: 100%|██████████| 30/30 [00:00<00:00, 186.57it/s]\n",
            "epoch50 loss:0.007880127988755703: 100%|██████████| 30/30 [00:00<00:00, 221.47it/s]\n",
            "epoch51 loss:0.0077877352014184: 100%|██████████| 30/30 [00:00<00:00, 212.63it/s]\n",
            "epoch52 loss:0.007625195663422346: 100%|██████████| 30/30 [00:00<00:00, 219.15it/s]\n",
            "epoch53 loss:0.007520655170083046: 100%|██████████| 30/30 [00:00<00:00, 212.04it/s]\n",
            "epoch54 loss:0.007387763820588589: 100%|██████████| 30/30 [00:00<00:00, 221.79it/s]\n",
            "epoch55 loss:0.007306812796741724: 100%|██████████| 30/30 [00:00<00:00, 211.74it/s]\n",
            "epoch56 loss:0.007136868312954903: 100%|██████████| 30/30 [00:00<00:00, 202.55it/s]\n",
            "epoch57 loss:0.0070601883344352245: 100%|██████████| 30/30 [00:00<00:00, 217.27it/s]\n",
            "epoch58 loss:0.006946512497961521: 100%|██████████| 30/30 [00:00<00:00, 197.01it/s]\n",
            "epoch59 loss:0.00684067839756608: 100%|██████████| 30/30 [00:00<00:00, 208.74it/s]\n",
            "epoch60 loss:0.006741431076079607: 100%|██████████| 30/30 [00:00<00:00, 222.76it/s]\n",
            "epoch61 loss:0.006633081007748842: 100%|██████████| 30/30 [00:00<00:00, 197.88it/s]\n",
            "epoch62 loss:0.006532823201268911: 100%|██████████| 30/30 [00:00<00:00, 208.38it/s]\n",
            "epoch63 loss:0.0064350212924182415: 100%|██████████| 30/30 [00:00<00:00, 193.79it/s]\n",
            "epoch64 loss:0.006337795406579971: 100%|██████████| 30/30 [00:00<00:00, 216.12it/s]\n",
            "epoch65 loss:0.006218826863914728: 100%|██████████| 30/30 [00:00<00:00, 207.49it/s]\n",
            "epoch66 loss:0.006143719423562288: 100%|██████████| 30/30 [00:00<00:00, 194.66it/s]\n",
            "epoch67 loss:0.006041500251740217: 100%|██████████| 30/30 [00:00<00:00, 197.88it/s]\n",
            "epoch68 loss:0.005944715812802315: 100%|██████████| 30/30 [00:00<00:00, 194.01it/s]\n",
            "epoch69 loss:0.005857728887349367: 100%|██████████| 30/30 [00:00<00:00, 145.64it/s]\n",
            "epoch70 loss:0.0057718087919056416: 100%|██████████| 30/30 [00:00<00:00, 158.10it/s]\n",
            "epoch71 loss:0.005673274863511324: 100%|██████████| 30/30 [00:00<00:00, 179.62it/s]\n",
            "epoch72 loss:0.005630250554531813: 100%|██████████| 30/30 [00:00<00:00, 183.71it/s]\n",
            "epoch73 loss:0.005498784128576517: 100%|██████████| 30/30 [00:00<00:00, 169.42it/s]\n",
            "epoch74 loss:0.0054276552982628345: 100%|██████████| 30/30 [00:00<00:00, 168.68it/s]\n",
            "epoch75 loss:0.0053614964708685875: 100%|██████████| 30/30 [00:00<00:00, 172.80it/s]\n",
            "epoch76 loss:0.005313802044838667: 100%|██████████| 30/30 [00:00<00:00, 171.40it/s]\n",
            "epoch77 loss:0.005188961047679186: 100%|██████████| 30/30 [00:00<00:00, 185.54it/s]\n",
            "epoch78 loss:0.005152473691850901: 100%|██████████| 30/30 [00:00<00:00, 192.74it/s]\n",
            "epoch79 loss:0.005071999039500952: 100%|██████████| 30/30 [00:00<00:00, 180.63it/s]\n",
            "epoch80 loss:0.004998789634555578: 100%|██████████| 30/30 [00:00<00:00, 162.39it/s]\n",
            "epoch81 loss:0.00494046974927187: 100%|██████████| 30/30 [00:00<00:00, 162.12it/s]\n",
            "epoch82 loss:0.004858012776821852: 100%|██████████| 30/30 [00:00<00:00, 175.44it/s]\n",
            "epoch83 loss:0.0047884718514978886: 100%|██████████| 30/30 [00:00<00:00, 171.66it/s]\n",
            "epoch84 loss:0.004743841011077166: 100%|██████████| 30/30 [00:00<00:00, 167.04it/s]\n",
            "epoch85 loss:0.00463412469252944: 100%|██████████| 30/30 [00:00<00:00, 146.10it/s]\n",
            "epoch86 loss:0.004613667726516724: 100%|██████████| 30/30 [00:00<00:00, 171.23it/s]\n",
            "epoch87 loss:0.004527311772108078: 100%|██████████| 30/30 [00:00<00:00, 203.15it/s]\n",
            "epoch88 loss:0.004472840111702681: 100%|██████████| 30/30 [00:00<00:00, 188.39it/s]\n",
            "epoch89 loss:0.004393400624394417: 100%|██████████| 30/30 [00:00<00:00, 193.81it/s]\n",
            "epoch90 loss:0.004364779219031334: 100%|██████████| 30/30 [00:00<00:00, 195.00it/s]\n",
            "epoch91 loss:0.004295777529478073: 100%|██████████| 30/30 [00:00<00:00, 202.44it/s]\n",
            "epoch92 loss:0.004215696826577187: 100%|██████████| 30/30 [00:00<00:00, 196.82it/s]\n",
            "epoch93 loss:0.004180736839771271: 100%|██████████| 30/30 [00:00<00:00, 205.03it/s]\n",
            "epoch94 loss:0.0041157519444823265: 100%|██████████| 30/30 [00:00<00:00, 193.00it/s]\n",
            "epoch95 loss:0.004066084045916796: 100%|██████████| 30/30 [00:00<00:00, 203.00it/s]\n",
            "epoch96 loss:0.0040008448995649815: 100%|██████████| 30/30 [00:00<00:00, 204.83it/s]\n",
            "epoch97 loss:0.00394743587821722: 100%|██████████| 30/30 [00:00<00:00, 210.00it/s]\n",
            "epoch98 loss:0.0038881057407706976: 100%|██████████| 30/30 [00:00<00:00, 192.77it/s]\n",
            "epoch99 loss:0.0038282994646579027: 100%|██████████| 30/30 [00:00<00:00, 195.71it/s]\n",
            "epoch100 loss:0.003783673979341984: 100%|██████████| 30/30 [00:00<00:00, 196.93it/s]\n",
            "epoch101 loss:0.0037200148217380047: 100%|██████████| 30/30 [00:00<00:00, 195.45it/s]\n",
            "epoch102 loss:0.0036791961174458265: 100%|██████████| 30/30 [00:00<00:00, 204.42it/s]\n",
            "epoch103 loss:0.0036166193895041943: 100%|██████████| 30/30 [00:00<00:00, 203.26it/s]\n",
            "epoch104 loss:0.0035679505672305822: 100%|██████████| 30/30 [00:00<00:00, 194.72it/s]\n",
            "epoch105 loss:0.0035072905011475086: 100%|██████████| 30/30 [00:00<00:00, 191.65it/s]\n",
            "epoch106 loss:0.0034699789248406887: 100%|██████████| 30/30 [00:00<00:00, 192.28it/s]\n",
            "epoch107 loss:0.0034139554481953382: 100%|██████████| 30/30 [00:00<00:00, 191.83it/s]\n",
            "epoch108 loss:0.0033693036530166864: 100%|██████████| 30/30 [00:00<00:00, 192.74it/s]\n",
            "epoch109 loss:0.0033121027518063784: 100%|██████████| 30/30 [00:00<00:00, 192.79it/s]\n",
            "epoch110 loss:0.003255323739722371: 100%|██████████| 30/30 [00:00<00:00, 183.01it/s]\n",
            "epoch111 loss:0.0032155956141650677: 100%|██████████| 30/30 [00:00<00:00, 193.77it/s]\n",
            "epoch112 loss:0.0031688872259110212: 100%|██████████| 30/30 [00:00<00:00, 197.59it/s]\n",
            "epoch113 loss:0.0031224589329212904: 100%|██████████| 30/30 [00:00<00:00, 192.15it/s]\n",
            "epoch114 loss:0.003069926518946886: 100%|██████████| 30/30 [00:00<00:00, 188.01it/s]\n",
            "epoch115 loss:0.0030314039904624224: 100%|██████████| 30/30 [00:00<00:00, 212.03it/s]\n",
            "epoch116 loss:0.002990840468555689: 100%|██████████| 30/30 [00:00<00:00, 196.44it/s]\n",
            "epoch117 loss:0.0029392519500106573: 100%|██████████| 30/30 [00:00<00:00, 187.54it/s]\n",
            "epoch118 loss:0.002907755319029093: 100%|██████████| 30/30 [00:00<00:00, 194.31it/s]\n",
            "epoch119 loss:0.0028328646440058947: 100%|██████████| 30/30 [00:00<00:00, 195.57it/s]\n",
            "epoch120 loss:0.0028139539062976837: 100%|██████████| 30/30 [00:00<00:00, 189.49it/s]\n",
            "epoch121 loss:0.00275813159532845: 100%|██████████| 30/30 [00:00<00:00, 204.47it/s]\n",
            "epoch122 loss:0.0027067153714597225: 100%|██████████| 30/30 [00:00<00:00, 204.02it/s]\n",
            "epoch123 loss:0.0026546202134341: 100%|██████████| 30/30 [00:00<00:00, 203.06it/s]\n",
            "epoch124 loss:0.0026218853890895844: 100%|██████████| 30/30 [00:00<00:00, 189.40it/s]\n",
            "epoch125 loss:0.00257426337338984: 100%|██████████| 30/30 [00:00<00:00, 197.83it/s]\n",
            "epoch126 loss:0.002520973328500986: 100%|██████████| 30/30 [00:00<00:00, 196.14it/s]\n",
            "epoch127 loss:0.0024865500163286924: 100%|██████████| 30/30 [00:00<00:00, 188.16it/s]\n",
            "epoch128 loss:0.0024337100330740213: 100%|██████████| 30/30 [00:00<00:00, 200.48it/s]\n",
            "epoch129 loss:0.00238991086371243: 100%|██████████| 30/30 [00:00<00:00, 197.89it/s]\n",
            "epoch130 loss:0.0023512665648013353: 100%|██████████| 30/30 [00:00<00:00, 190.14it/s]\n",
            "epoch131 loss:0.0023037169594317675: 100%|██████████| 30/30 [00:00<00:00, 190.59it/s]\n",
            "epoch132 loss:0.002254921244457364: 100%|██████████| 30/30 [00:00<00:00, 196.99it/s]\n",
            "epoch133 loss:0.002214312320575118: 100%|██████████| 30/30 [00:00<00:00, 195.46it/s]\n",
            "epoch134 loss:0.002173683140426874: 100%|██████████| 30/30 [00:00<00:00, 191.30it/s]\n",
            "epoch135 loss:0.0021224983502179384: 100%|██████████| 30/30 [00:00<00:00, 191.44it/s]\n",
            "epoch136 loss:0.002092252019792795: 100%|██████████| 30/30 [00:00<00:00, 192.01it/s]\n",
            "epoch137 loss:0.0020474866032600403: 100%|██████████| 30/30 [00:00<00:00, 190.86it/s]\n",
            "epoch138 loss:0.001997471321374178: 100%|██████████| 30/30 [00:00<00:00, 197.91it/s]\n",
            "epoch139 loss:0.001965932548046112: 100%|██████████| 30/30 [00:00<00:00, 192.87it/s]\n",
            "epoch140 loss:0.0019169399747624993: 100%|██████████| 30/30 [00:00<00:00, 185.71it/s]\n",
            "epoch141 loss:0.001882025389932096: 100%|██████████| 30/30 [00:00<00:00, 194.02it/s]\n",
            "epoch142 loss:0.0018405844457447529: 100%|██████████| 30/30 [00:00<00:00, 199.63it/s]\n",
            "epoch143 loss:0.001789999776519835: 100%|██████████| 30/30 [00:00<00:00, 195.35it/s]\n",
            "epoch144 loss:0.0017572928918525577: 100%|██████████| 30/30 [00:00<00:00, 194.63it/s]\n",
            "epoch145 loss:0.0017188847996294498: 100%|██████████| 30/30 [00:00<00:00, 192.80it/s]\n",
            "epoch146 loss:0.001669623306952417: 100%|██████████| 30/30 [00:00<00:00, 188.26it/s]\n",
            "epoch147 loss:0.0016369231743738055: 100%|██████████| 30/30 [00:00<00:00, 197.09it/s]\n",
            "epoch148 loss:0.0016009166138246655: 100%|██████████| 30/30 [00:00<00:00, 200.66it/s]\n",
            "epoch149 loss:0.0015596940647810698: 100%|██████████| 30/30 [00:00<00:00, 188.84it/s]\n",
            "epoch150 loss:0.001517847878858447: 100%|██████████| 30/30 [00:00<00:00, 177.52it/s]\n",
            "epoch151 loss:0.0014755252050235868: 100%|██████████| 30/30 [00:00<00:00, 167.59it/s]\n",
            "epoch152 loss:0.001439188257791102: 100%|██████████| 30/30 [00:00<00:00, 183.62it/s]\n",
            "epoch153 loss:0.0014056105865165591: 100%|██████████| 30/30 [00:00<00:00, 167.30it/s]\n",
            "epoch154 loss:0.0013737139524891973: 100%|██████████| 30/30 [00:00<00:00, 175.12it/s]\n",
            "epoch155 loss:0.0013314684620127082: 100%|██████████| 30/30 [00:00<00:00, 166.66it/s]\n",
            "epoch156 loss:0.00129939045291394: 100%|██████████| 30/30 [00:00<00:00, 160.39it/s]\n",
            "epoch157 loss:0.001256817253306508: 100%|██████████| 30/30 [00:00<00:00, 174.09it/s]\n",
            "epoch158 loss:0.0012261129450052977: 100%|██████████| 30/30 [00:00<00:00, 195.79it/s]\n",
            "epoch159 loss:0.001188040361739695: 100%|██████████| 30/30 [00:00<00:00, 171.83it/s]\n",
            "epoch160 loss:0.0011566855246201158: 100%|██████████| 30/30 [00:00<00:00, 166.28it/s]\n",
            "epoch161 loss:0.0011229063384234905: 100%|██████████| 30/30 [00:00<00:00, 164.53it/s]\n",
            "epoch162 loss:0.001087652868591249: 100%|██████████| 30/30 [00:00<00:00, 166.00it/s]\n",
            "epoch163 loss:0.001055373577401042: 100%|██████████| 30/30 [00:00<00:00, 188.55it/s]\n",
            "epoch164 loss:0.0010262015275657177: 100%|██████████| 30/30 [00:00<00:00, 197.69it/s]\n",
            "epoch165 loss:0.0009948138613253832: 100%|██████████| 30/30 [00:00<00:00, 149.67it/s]\n",
            "epoch166 loss:0.0009713320760056376: 100%|██████████| 30/30 [00:00<00:00, 163.61it/s]\n",
            "epoch167 loss:0.0009439699351787567: 100%|██████████| 30/30 [00:00<00:00, 187.99it/s]\n",
            "epoch168 loss:0.0009131177212111652: 100%|██████████| 30/30 [00:00<00:00, 183.82it/s]\n",
            "epoch169 loss:0.0008844311232678592: 100%|██████████| 30/30 [00:00<00:00, 164.59it/s]\n",
            "epoch170 loss:0.0008542882278561592: 100%|██████████| 30/30 [00:00<00:00, 164.37it/s]\n",
            "epoch171 loss:0.0008256755536422133: 100%|██████████| 30/30 [00:00<00:00, 155.39it/s]\n",
            "epoch172 loss:0.000798822904471308: 100%|██████████| 30/30 [00:00<00:00, 159.78it/s]\n",
            "epoch173 loss:0.0007739525754004717: 100%|██████████| 30/30 [00:00<00:00, 166.86it/s]\n",
            "epoch174 loss:0.0007505783578380942: 100%|██████████| 30/30 [00:00<00:00, 182.51it/s]\n",
            "epoch175 loss:0.0007268075714819133: 100%|██████████| 30/30 [00:00<00:00, 177.77it/s]\n",
            "epoch176 loss:0.0007042065844871104: 100%|██████████| 30/30 [00:00<00:00, 179.23it/s]\n",
            "epoch177 loss:0.0006870224024169147: 100%|██████████| 30/30 [00:00<00:00, 180.68it/s]\n",
            "epoch178 loss:0.0006700982339680195: 100%|██████████| 30/30 [00:00<00:00, 191.15it/s]\n",
            "epoch179 loss:0.0006526338402181864: 100%|██████████| 30/30 [00:00<00:00, 181.13it/s]\n",
            "epoch180 loss:0.000635382835753262: 100%|██████████| 30/30 [00:00<00:00, 188.75it/s]\n",
            "epoch181 loss:0.0006168772233650088: 100%|██████████| 30/30 [00:00<00:00, 184.69it/s]\n",
            "epoch182 loss:0.0005968030891381204: 100%|██████████| 30/30 [00:00<00:00, 191.86it/s]\n",
            "epoch183 loss:0.000577133207116276: 100%|██████████| 30/30 [00:00<00:00, 178.09it/s]\n",
            "epoch184 loss:0.0005579281132668257: 100%|██████████| 30/30 [00:00<00:00, 187.40it/s]\n",
            "epoch185 loss:0.0005398339126259089: 100%|██████████| 30/30 [00:00<00:00, 190.27it/s]\n",
            "epoch186 loss:0.0005236350116319954: 100%|██████████| 30/30 [00:00<00:00, 193.38it/s]\n",
            "epoch187 loss:0.0005079234833829105: 100%|██████████| 30/30 [00:00<00:00, 185.67it/s]\n",
            "epoch188 loss:0.0004963286337442696: 100%|██████████| 30/30 [00:00<00:00, 186.76it/s]\n",
            "epoch189 loss:0.0004875550221186131: 100%|██████████| 30/30 [00:00<00:00, 189.15it/s]\n",
            "epoch190 loss:0.00048074816004373133: 100%|██████████| 30/30 [00:00<00:00, 185.27it/s]\n",
            "epoch191 loss:0.00047577032819390297: 100%|██████████| 30/30 [00:00<00:00, 192.31it/s]\n",
            "epoch192 loss:0.0004724340105894953: 100%|██████████| 30/30 [00:00<00:00, 195.32it/s]\n",
            "epoch193 loss:0.0004704234597738832: 100%|██████████| 30/30 [00:00<00:00, 184.87it/s]\n",
            "epoch194 loss:0.0004692675138358027: 100%|██████████| 30/30 [00:00<00:00, 200.59it/s]\n",
            "epoch195 loss:0.0004680000420194119: 100%|██████████| 30/30 [00:00<00:00, 187.60it/s]\n",
            "epoch196 loss:0.0004646473389584571: 100%|██████████| 30/30 [00:00<00:00, 178.12it/s]\n",
            "epoch197 loss:0.00046077670413069427: 100%|██████████| 30/30 [00:00<00:00, 193.40it/s]\n",
            "epoch198 loss:0.00045574954128824174: 100%|██████████| 30/30 [00:00<00:00, 189.77it/s]\n",
            "epoch199 loss:0.0004507516568992287: 100%|██████████| 30/30 [00:00<00:00, 190.03it/s]\n"
          ]
        }
      ]
    },
    {
      "cell_type": "code",
      "source": [
        "import matplotlib.pyplot as plt\n",
        "\n",
        "loader = DataLoader(dataset, batch_size=1) # 한 개씩 불러와 예측\n",
        "\n",
        "preds = [] # 예측 결과 저장\n",
        "total_loss = 0\n",
        "\n",
        "with torch.no_grad():\n",
        "   # 모델의 가중치 불러오기\n",
        "   model.load_state_dict(torch.load(\"rnn.pth\", map_location=device))\n",
        "\n",
        "   for data, label in loader:\n",
        "       h0 = torch.zeros(5, data.shape[0], 8).to(device)  #초기 은닉상태 정의\n",
        "\n",
        "       # 모델의 예측값 출력\n",
        "       pred = model(data.type(torch.FloatTensor).to(device), h0)\n",
        "       preds.append(pred.item())  #예측값을 리스트에 추가\n",
        "       loss = nn.MSELoss()(pred,\n",
        "                           label.type(torch.FloatTensor).to(device))  # 손실계산\n",
        "       total_loss += loss/len(loader)  # 전체 손실 평균\n",
        "\n",
        "total_loss.item()"
      ],
      "metadata": {
        "colab": {
          "base_uri": "https://localhost:8080/"
        },
        "id": "hI_4LKArevKr",
        "outputId": "945aa89a-90fc-46c8-c3ed-b77472694666"
      },
      "execution_count": 12,
      "outputs": [
        {
          "output_type": "execute_result",
          "data": {
            "text/plain": [
              "0.002193528925999999"
            ]
          },
          "metadata": {},
          "execution_count": 12
        }
      ]
    },
    {
      "cell_type": "code",
      "source": [
        "plt.plot(preds, label=\"prediction\")# 예측값 선 그래프\n",
        "plt.plot( dataset.label[30:], label=\"actual\")# 실제 종가 (30일 이후부터 비교하기 위해서)\n",
        "plt.legend()\n",
        "plt.show()\n",
        "\n",
        "\n",
        "#(생각해보기)x축이 왜 800칸이 넘게 나올까?\n",
        "\n",
        "#본 실습에서는 학습했던 데이터에서도 prediction을 뽑았지만, 실제로 성능 평가를 하려면 학습/평가 데이터셋을 철저히 나누어 학습 데이터셋으로만 학습하고, 평가 데이터셋과 비교하여야 함.\n",
        "#(todo) 학습 데이터셋 80%, 예측용(평가용) 데이터셋 20%로 나누어 다시 코드를 개선해 보세요."
      ],
      "metadata": {
        "colab": {
          "base_uri": "https://localhost:8080/",
          "height": 430
        },
        "id": "lo_2wP8oexyD",
        "outputId": "c9816a25-2f47-4108-8a78-c494c3c3f982"
      },
      "execution_count": 16,
      "outputs": [
        {
          "output_type": "display_data",
          "data": {
            "text/plain": [
              "<Figure size 640x480 with 1 Axes>"
            ],
            "image/png": "[encoded data removed]"
          },
          "metadata": {}
        }
      ]
    },
    {
      "cell_type": "markdown",
      "source": [
        "## 감정 분석"
      ],
      "metadata": {
        "id": "pLlqhordhWc4"
      }
    },
    {
      "cell_type": "code",
      "source": [
        "# RNN 기반 감정 분석 (Many-to-One)\n",
        "\n",
        "import torch\n",
        "import torch.nn as nn\n",
        "import torch.optim as optim"
      ],
      "metadata": {
        "id": "u-Vst25lhYVF"
      },
      "execution_count": 33,
      "outputs": []
    },
    {
      "cell_type": "code",
      "source": [
        "#1. 데이터 준비\n",
        "train_data = [\n",
        "    ([\"오늘\", \"기분\", \"좋아\"], \"긍정\"),\n",
        "    ([\"정말\", \"행복한\", \"하루야\"], \"긍정\"),\n",
        "    ([\"이거\", \"최고야\"], \"긍정\"),\n",
        "    ([\"별로야\", \"다시는\", \"안\", \"볼래\"], \"부정\"),\n",
        "    ([\"짜증나고\", \"실망이야\"], \"부정\"),\n",
        "    ([\"이건\", \"진짜\", \"별로다\"], \"부정\"),\n",
        "    ([\"오늘\", \"하늘이\", \"맑고\", \"햇살도\", \"따뜻해서\", \"기분\", \"좋아\"], \"긍정\"),\n",
        "    ([\"친구랑\", \"오랜만에\", \"재밌게\", \"놀았어\", \"행복해\"], \"긍정\"),\n",
        "    ([\"생각보다\", \"결과가\", \"좋아서\", \"기뻐\"], \"긍정\"),\n",
        "    ([\"선물\", \"받아서\", \"기분\", \"좋아졌어\"], \"긍정\"),\n",
        "    ([\"맛있는\", \"음식\", \"먹고\", \"기분\", \"좋아졌어\"], \"긍정\"),\n",
        "    ([\"오늘은\", \"정말\", \"행복한\", \"하루였어\"], \"긍정\"),\n",
        "    ([\"시험\", \"잘\", \"보고\", \"칭찬도\", \"받았어\"], \"긍정\"),\n",
        "    ([\"모처럼\", \"여유롭게\", \"산책했어\", \"기분\", \"좋아\"], \"긍정\"),\n",
        "    ([\"예쁜\", \"꽃을\", \"보니\", \"기분이\", \"좋아졌어\"], \"긍정\"),\n",
        "    ([\"걱정하던\", \"일이\", \"잘\", \"풀려서\", \"다행이야\"], \"긍정\"),\n",
        "    ([\"따뜻한\", \"차\", \"한잔에\", \"마음이\", \"편안해졌어\"], \"긍정\"),\n",
        "    ([\"노래\", \"들으면서\", \"산책하니까\", \"기분\", \"좋았어\"], \"긍정\"),\n",
        "    ([\"좋은\", \"사람들과\", \"시간\", \"보내서\", \"행복했어\"], \"긍정\"),\n",
        "    ([\"오랜만에\", \"일찍\", \"일어나서\", \"상쾌했어\"], \"긍정\"),\n",
        "    ([\"하늘\", \"예쁘고\", \"바람도\", \"시원해서\", \"기분\", \"좋아\"], \"긍정\"),\n",
        "    ([\"누군가의\", \"작은\", \"배려에\", \"감동했어\"], \"긍정\"),\n",
        "    ([\"좋은\", \"소식을\", \"들었어\", \"기분\", \"업됐어\"], \"긍정\"),\n",
        "    ([\"기대\", \"안했는데\", \"결과가\", \"좋았어\"], \"긍정\"),\n",
        "    ([\"계획대로\", \"모든\", \"일이\", \"잘\", \"됐어\"], \"긍정\"),\n",
        "    ([\"오늘\", \"정말\", \"뿌듯한\", \"하루였어\"], \"긍정\"),\n",
        "    ([\"오늘\", \"괜히\", \"기분\", \"나쁘고\", \"짜증났어\"], \"부정\"),\n",
        "    ([\"예상\", \"했던\", \"것보다\", \"훨씬\", \"실망이야\"], \"부정\"),\n",
        "    ([\"사소한\", \"일로\", \"화를\", \"내고\", \"후회했어\"], \"부정\"),\n",
        "    ([\"갑자기\", \"기분\", \"안\", \"좋아졌어\"], \"부정\"),\n",
        "    ([\"다\", \"귀찮고\", \"아무것도\", \"하기\", \"싫어\"], \"부정\"),\n",
        "    ([\"말\", \"실수해서\", \"분위기\", \"망쳤어\"], \"부정\"),\n",
        "    ([\"계획대로\", \"안\", \"돼서\", \"짜증났어\"], \"부정\"),\n",
        "    ([\"하루\", \"종일\", \"불안하고\", \"찝찝했어\"], \"부정\"),\n",
        "    ([\"약속\", \"취소돼서\", \"혼자\", \"시간\", \"보냈어\"], \"부정\"),\n",
        "    ([\"쓸데없이\", \"예민해져서\", \"기분\", \"나빠\"], \"부정\"),\n",
        "    ([\"기대했는데\", \"생각보다\", \"별로였어\"], \"부정\"),\n",
        "    ([\"사람들\", \"시선\", \"때문에\", \"불편했어\"], \"부정\"),\n",
        "    ([\"아무\", \"이유\", \"없이\", \"우울한\", \"기분이야\"], \"부정\"),\n",
        "    ([\"진짜\", \"짜증나는\", \"일이\", \"생겼어\"], \"부정\"),\n",
        "    ([\"하루\", \"종일\", \"우울했어\", \"기운도\", \"없어\"], \"부정\"),\n",
        "    ([\"어제\", \"일이\", \"계속\", \"생각나서\", \"힘들어\"], \"부정\"),\n",
        "    ([\"시간\", \"낭비만\", \"한\", \"느낌이야\"], \"부정\"),\n",
        "    ([\"아무\", \"성과도\", \"없고\", \"지쳤어\"], \"부정\"),\n",
        "    ([\"별로\", \"하고\", \"싶은\", \"일이\", \"없어\"], \"부정\"),\n",
        "    ([\"다\", \"헛수고였던\", \"것\", \"같아\"], \"부정\"),\n",
        "    ([\"아침부터\", \"좋은\", \"소식을\", \"들어서\", \"기분\", \"좋았어\"], \"긍정\"),\n",
        "    ([\"기대\", \"이상으로\", \"즐거운\", \"시간\", \"보냈어\"], \"긍정\"),\n",
        "    ([\"응원\", \"받으니까\", \"힘이\", \"났어\"], \"긍정\"),\n",
        "    ([\"좋은\", \"사람과\", \"대화하니까\", \"마음이\", \"편해졌어\"], \"긍정\"),\n",
        "    ([\"편지를\", \"받고\", \"감동했어\"], \"긍정\"),\n",
        "    ([\"걱정했던\", \"일이\", \"잘\", \"풀려서\", \"다행이야\"], \"긍정\"),\n",
        "    ([\"일이\", \"생각보다\", \"쉽게\", \"끝났어\"], \"긍정\"),\n",
        "    ([\"작은\", \"성공이\", \"나를\", \"미소짓게\", \"했어\"], \"긍정\"),\n",
        "    ([\"좋은\", \"음악\", \"들으며\", \"여유를\", \"즐겼어\"], \"긍정\"),\n",
        "    ([\"혼자만의\", \"시간이\", \"생겨서\", \"기뻤어\"], \"긍정\"),\n",
        "    ([\"처음\", \"해보는\", \"도전이었는데\", \"재미있었어\"], \"긍정\"),\n",
        "    ([\"오랜\", \"노력이\", \"결실을\", \"맺어서\", \"기뻐\"], \"긍정\"),\n",
        "    ([\"작은\", \"친절에\", \"감사한\", \"마음이\", \"들었어\"], \"긍정\"),\n",
        "    ([\"모두가\", \"칭찬해줘서\", \"기분\", \"좋았어\"], \"긍정\"),\n",
        "    ([\"처음\", \"가는\", \"장소였지만\", \"편안했어\"], \"긍정\"),\n",
        "    ([\"나를\", \"이해해주는\", \"사람이\", \"있다는\", \"게\", \"행복해\"], \"긍정\"),\n",
        "    ([\"기다렸던\", \"순간이\", \"드디어\", \"왔어\"], \"긍정\"),\n",
        "    ([\"친구에게\", \"고맙다는\", \"말을\", \"들었어\"], \"긍정\"),\n",
        "    ([\"작은\", \"성취도\", \"의미있게\", \"느껴졌어\"], \"긍정\"),\n",
        "    ([\"내가\", \"필요한\", \"존재라는\", \"걸\", \"느꼈어\"], \"긍정\"),\n",
        "    ([\"아무도\", \"내\", \"말을\", \"들어주지\", \"않았어\"], \"부정\"),\n",
        "    ([\"실수로\", \"기회를\", \"놓쳐서\", \"속상했어\"], \"부정\"),\n",
        "    ([\"아침부터\", \"기분\", \"상하는\", \"일이\", \"있었어\"], \"부정\"),\n",
        "    ([\"모두\", \"바쁘다고\", \"해서\", \"외로웠어\"], \"부정\"),\n",
        "    ([\"노력했는데도\", \"결과가\", \"안\", \"좋았어\"], \"부정\"),\n",
        "    ([\"회의가\", \"길어져서\", \"지치고\", \"짜증났어\"], \"부정\"),\n",
        "    ([\"기다린\", \"보람이\", \"없었어\"], \"부정\"),\n",
        "    ([\"내\", \"의견이\", \"무시당해서\", \"화났어\"], \"부정\"),\n",
        "    ([\"피곤하고\", \"힘든\", \"하루였어\"], \"부정\"),\n",
        "    ([\"오해가\", \"생겨서\", \"속상했어\"], \"부정\"),\n",
        "    ([\"다른\", \"사람들과\", \"비교돼서\", \"힘들어\"], \"부정\"),\n",
        "    ([\"자꾸\", \"틀려서\", \"자신감이\", \"떨어졌어\"], \"부정\"),\n",
        "    ([\"마음이\", \"복잡하고\", \"정리가\", \"안돼\"], \"부정\"),\n",
        "    ([\"누군가에게\", \"상처받은\", \"느낌이야\"], \"부정\"),\n",
        "    ([\"계획했던\", \"일정을\", \"지키지\", \"못했어\"], \"부정\"),\n",
        "    ([\"자꾸\", \"뒤처지는\", \"기분이야\"], \"부정\"),\n",
        "    ([\"내가\", \"괜찮지\", \"않다는\", \"생각이\", \"들었어\"], \"부정\"),\n",
        "    ([\"결정이\", \"어려워서\", \"혼란스러웠어\"], \"부정\"),\n",
        "    ([\"문제가\", \"생겼는데\", \"도움을\", \"못\", \"받았어\"], \"부정\"),\n",
        "    ([\"좋았던\", \"기분이\", \"하루\", \"종일\", \"망가졌어\"], \"부정\"),\n",
        "]"
      ],
      "metadata": {
        "id": "pEDwSHEDhmVY"
      },
      "execution_count": 34,
      "outputs": []
    },
    {
      "cell_type": "code",
      "source": [
        "# 라벨 인코딩 (감정 라벨을 숫자로 변환하기 위해서)\n",
        "label2idx = {\"긍정\": 0, \"부정\": 1}\n",
        "idx2label = {0: \"긍정\", 1: \"부정\"}\n"
      ],
      "metadata": {
        "id": "daMsCDEuhyPC"
      },
      "execution_count": 35,
      "outputs": []
    },
    {
      "cell_type": "code",
      "source": [
        "# 단어 사전 만들기\n",
        "# pad: 문장을 동일한 길이로 맞추기 위한 토큰\n",
        "# unk: 사전에 없는 단어 처리용으로 만든 토큰\n",
        "word_vocab = {\"<PAD>\": 0, \"<UNK>\": 1} # 오늘 :2, 기분: 3......\n",
        "for words, _ in train_data:\n",
        "  for w in words:\n",
        "    if w not in word_vocab:\n",
        "      word_vocab[w] = len(word_vocab)\n",
        ""
      ],
      "metadata": {
        "id": "xyMXN-IxiSoj"
      },
      "execution_count": 36,
      "outputs": []
    },
    {
      "cell_type": "code",
      "source": [
        "# 시퀀스 인코딩 함수\n",
        "# 문장을 숫자 리스트로 변환하고, 길이가 짧으면 그 부분은 pad로 채움.\n",
        "# 레이블도 0과 1로 변환함\n",
        "def encode(words, label, max_len):\n",
        "  x = [word_vocab.get(w, word_vocab[\"<UNK>\"]) for w in words]\n",
        "  x += [word_vocab[\"<PAD>\"]] * (max_len - len(x))\n",
        "  y = label2idx[label]\n",
        "  return torch.tensor(x), torch.tensor(y)\n",
        "\n",
        "max_len = max(len(s) for s, _ in train_data)\n",
        "encoded_data = [encode(s, t, max_len) for s, t in train_data]\n"
      ],
      "metadata": {
        "id": "qMGfskGCi1fa"
      },
      "execution_count": 37,
      "outputs": []
    },
    {
      "cell_type": "code",
      "source": [
        "# 2. 모델 정의\n",
        "class SentimentRNN(nn.Module):\n",
        "  def __init__(self, vocab_size, embed_dim, hidden_dim, output_dim):\n",
        "    super().__init__()\n",
        "    self.embed = nn.Embedding(vocab_size, embed_dim)\n",
        "    self.rnn = nn.RNN(embed_dim, hidden_dim, batch_first=True)\n",
        "    self.fc = nn.Linear(hidden_dim, output_dim) # OUTPUT은 긍정/ 부정 으로 출력크기가 2여야 함.\n",
        "\n",
        "  def forward(self, x):\n",
        "    x = self.embed(x)   # (batch, seq_len, embed)\n",
        "    out, _ = self.rnn(x) # (batch, seq_len, hidden)\n",
        "    out = out[:, -1, :]  # 마지막 time step만 사용 (Many-to-One)\n",
        "    return self.fc(out)\n",
        "\n",
        "vocab_size = len(word_vocab)\n",
        "model = SentimentRNN(vocab_size, embed_dim=16, hidden_dim=32, output_dim=2)\n",
        "\n",
        "criterion = nn.CrossEntropyLoss()\n",
        "optimizer = optim.Adam(model.parameters(), lr=0.001)\n"
      ],
      "metadata": {
        "id": "a8h5agzoj3mp"
      },
      "execution_count": 40,
      "outputs": []
    },
    {
      "cell_type": "code",
      "source": [
        "# 3. 학습\n",
        "for epoch in range(1000):\n",
        "  total_loss = 0\n",
        "  for x, y in encoded_data:\n",
        "      x = x.unsqueeze(0)\n",
        "      y = y.unsqueeze(0)\n",
        "      output = model(x)\n",
        "      loss = criterion(output, y)\n",
        "      optimizer.zero_grad()\n",
        "      loss.backward()\n",
        "      optimizer.step()\n",
        "      total_loss += loss.item()\n",
        "  if (epoch + 1) % 100 == 0:\n",
        "    print(f\"Epoch: {epoch+1}, Loss: {total_loss/len(encoded_data)}\")\n"
      ],
      "metadata": {
        "colab": {
          "base_uri": "https://localhost:8080/"
        },
        "id": "RfhIAoRylMB2",
        "outputId": "f34fbff6-70b7-473f-a750-837b3ea50297"
      },
      "execution_count": 41,
      "outputs": [
        {
          "output_type": "stream",
          "name": "stdout",
          "text": [
            "Epoch: 100, Loss: 2.408686012046907e-05\n",
            "Epoch: 200, Loss: 2.7584471273564495e-07\n",
            "Epoch: 300, Loss: 0.0\n",
            "Epoch: 400, Loss: 0.0\n",
            "Epoch: 500, Loss: 0.0\n",
            "Epoch: 600, Loss: 0.0\n",
            "Epoch: 700, Loss: 0.0\n",
            "Epoch: 800, Loss: 0.0\n",
            "Epoch: 900, Loss: 0.0\n",
            "Epoch: 1000, Loss: 0.0\n"
          ]
        }
      ]
    },
    {
      "cell_type": "code",
      "source": [
        "# 4. 예측 함수\n",
        "#\n",
        "def predict(sentence):\n",
        "    x = [word_vocab.get(w, word_vocab[\"<UNK>\"]) for w in sentence]\n",
        "    x += [word_vocab[\"<PAD>\"]] * (max_len - len(x))\n",
        "    x = torch.tensor(x).unsqueeze(0)\n",
        "    output = model(x)\n",
        "    pred = torch.argmax(output, dim =1).item()\n",
        "    return idx2label[pred]"
      ],
      "metadata": {
        "id": "Qlw1I2H8mj3q"
      },
      "execution_count": 57,
      "outputs": []
    },
    {
      "cell_type": "code",
      "source": [
        "# 5. 테스트\n",
        "test_sent = [\"아주\", \"별로야\"]\n",
        "print(\"문장:\", test_sent)\n",
        "print(\"예측된 감정:\", predict(test_sent))\n",
        "print(\"\")\n",
        "\n",
        "test_sent = [\"오늘\", \"너무\", \"좋았다\"]\n",
        "print(\"문장:\", test_sent)\n",
        "print(\"예측된 감정: \", predict(test_sent))\n"
      ],
      "metadata": {
        "colab": {
          "base_uri": "https://localhost:8080/"
        },
        "id": "FUW97rqZnBrD",
        "outputId": "ade1541e-9d55-4258-a346-6d0ac6324537"
      },
      "execution_count": 61,
      "outputs": [
        {
          "output_type": "stream",
          "name": "stdout",
          "text": [
            "문장: ['아주', '별로야']\n",
            "예측된 감정: 긍정\n",
            "\n",
            "문장: ['오늘', '너무', '좋았다']\n",
            "예측된 감정:  부정\n"
          ]
        }
      ]
    },
    {
      "cell_type": "markdown",
      "source": [
        "## 품사 태깅"
      ],
      "metadata": {
        "id": "PEykyrYioz_u"
      }
    },
    {
      "cell_type": "code",
      "source": [
        "# 간단한 RNN 기반 품사 태깅\n",
        "\n",
        "import torch\n",
        "import torch.nn as nn\n",
        "import torch.optim as optim\n"
      ],
      "metadata": {
        "id": "PeNYCr49o1vb"
      },
      "execution_count": 63,
      "outputs": []
    },
    {
      "cell_type": "code",
      "source": [
        "# 샘플 데이터 셋: 문장과 품사 태그\n",
        "# PRP: 인칭대명사, NN: 명사, VB: 동사, RB: 부사, CC: 접속사\n",
        "data = [\n",
        "    ([\"나는\", \"밥을\", \"먹는다\"], [\"PRP\", \"NN\", \"VB\"]),\n",
        "    ([\"너는\", \"책을\", \"읽는다\"], [\"PRP\", \"NN\", \"VB\"]),\n",
        "    ([\"우리는\", \"춤을\", \"춘다\"], [\"PRP\", \"NN\", \"VB\"]),\n",
        "    ([\"그는\", \"운동을\", \"한다\"], [\"PRP\", \"NN\", \"VB\"]),\n",
        "    ([\"고양이가\", \"잔다\"], [\"NN\", \"VB\"]),\n",
        "    ([\"아빠는\", \"신문을\", \"본다\"], [\"PRP\", \"NN\", \"VB\"]),\n",
        "    ([\"엄마는\", \"요리를\", \"한다\"], [\"PRP\", \"NN\", \"VB\"]),\n",
        "    ([\"선생님은\", \"학생을\", \"가르친다\"], [\"PRP\", \"NN\", \"VB\"]),\n",
        "    ([\"나는\", \"노래를\", \"부른다\"], [\"PRP\", \"NN\", \"VB\"]),\n",
        "    ([\"너는\", \"게임을\", \"한다\"], [\"PRP\", \"NN\", \"VB\"]),\n",
        "    ([\"우리는\", \"야구를\", \"한다\"], [\"PRP\", \"NN\", \"VB\"]),\n",
        "    ([\"그녀는\", \"커피를\", \"마신다\"], [\"PRP\", \"NN\", \"VB\"]),\n",
        "    ([\"강아지가\", \"짖는다\"], [\"NN\", \"VB\"]),\n",
        "    ([\"고양이는\", \"뛴다\"], [\"NN\", \"VB\"]),\n",
        "    ([\"나는\", \"편지를\", \"쓴다\"], [\"PRP\", \"NN\", \"VB\"]),\n",
        "    ([\"너는\", \"사진을\", \"찍는다\"], [\"PRP\", \"NN\", \"VB\"]),\n",
        "    ([\"우리는\", \"영화를\", \"본다\"], [\"PRP\", \"NN\", \"VB\"]),\n",
        "    ([\"그는\", \"운전을\", \"배운다\"], [\"PRP\", \"NN\", \"VB\"]),\n",
        "    ([\"그녀는\", \"춤을\", \"배운다\"], [\"PRP\", \"NN\", \"VB\"]),\n",
        "    ([\"아이는\", \"공을\", \"던진다\"], [\"NN\", \"NN\", \"VB\"]),\n",
        "    ([\"나는\", \"코딩을\", \"배운다\"], [\"PRP\", \"NN\", \"VB\"]),\n",
        "    ([\"너는\", \"빵을\", \"먹는다\"], [\"PRP\", \"NN\", \"VB\"]),\n",
        "    ([\"그들은\", \"산책을\", \"간다\"], [\"PRP\", \"NN\", \"VB\"]),\n",
        "    ([\"우리는\", \"운동을\", \"좋아한다\"], [\"PRP\", \"NN\", \"VB\"]),\n",
        "    ([\"선생님은\", \"책을\", \"읽는다\"], [\"PRP\", \"NN\", \"VB\"]),\n",
        "    ([\"엄마는\", \"청소를\", \"한다\"], [\"PRP\", \"NN\", \"VB\"]),\n",
        "    ([\"아빠는\", \"운동을\", \"한다\"], [\"PRP\", \"NN\", \"VB\"]),\n",
        "    ([\"고양이가\", \"밥을\", \"먹는다\"], [\"NN\", \"NN\", \"VB\"]),\n",
        "    ([\"강아지는\", \"공을\", \"물고\", \"놀았다\"], [\"NN\", \"NN\", \"VB\", \"VB\"]),\n",
        "    ([\"그녀는\", \"피아노를\", \"연주한다\"], [\"PRP\", \"NN\", \"VB\"]),\n",
        "     ([\"나는\", \"오늘\", \"도서관에서\", \"책을\", \"열심히\", \"읽었다\"],\n",
        "     [\"PRP\", \"NN\", \"NN\", \"NN\", \"RB\", \"VB\"]),\n",
        "\n",
        "    ([\"너는\", \"아침에\", \"운동장을\", \"빠르게\", \"달렸다\", \"그리고\", \"물을\", \"마셨다\"],\n",
        "     [\"PRP\", \"NN\", \"NN\", \"RB\", \"VB\", \"CC\", \"NN\", \"VB\"]),\n",
        "\n",
        "    ([\"우리는\", \"식당에서\", \"밥을\", \"천천히\", \"먹고\", \"이야기했다\"],\n",
        "     [\"PRP\", \"NN\", \"NN\", \"RB\", \"VB\", \"VB\"]),\n",
        "\n",
        "    ([\"그는\", \"공원에서\", \"강아지와\", \"놀다가\", \"벤치에\", \"앉았다\"],\n",
        "     [\"PRP\", \"NN\", \"NN\", \"VB\", \"NN\", \"VB\"]),\n",
        "\n",
        "    ([\"그녀는\", \"음악을\", \"들으며\", \"편지를\", \"썼다\", \"그리고\", \"미소를\", \"지었다\"],\n",
        "     [\"PRP\", \"NN\", \"VB\", \"NN\", \"VB\", \"CC\", \"NN\", \"VB\"]),\n",
        "\n",
        "    ([\"나는\", \"비가\", \"오는\", \"날에\", \"커피를\", \"마시며\", \"책을\", \"읽는다\"],\n",
        "     [\"PRP\", \"NN\", \"VB\", \"NN\", \"NN\", \"VB\", \"NN\", \"VB\"]),\n",
        "\n",
        "    ([\"엄마는\", \"부엌에서\", \"요리를\", \"하고\", \"아빠는\", \"신문을\", \"읽는다\"],\n",
        "     [\"PRP\", \"NN\", \"NN\", \"VB\", \"PRP\", \"NN\", \"VB\"]),\n",
        "\n",
        "    ([\"강아지는\", \"꼬리를\", \"흔들며\", \"주인을\", \"기다린다\", \"그리고\", \"짖는다\"],\n",
        "     [\"NN\", \"NN\", \"VB\", \"NN\", \"VB\", \"CC\", \"VB\"]),\n",
        "\n",
        "    ([\"고양이는\", \"햇살을\", \"맞으며\", \"창밖을\", \"바라본다\", \"조용히\"],\n",
        "     [\"NN\", \"NN\", \"VB\", \"NN\", \"VB\", \"RB\"]),\n",
        "\n",
        "    ([\"선생님은\", \"학생들에게\", \"질문을\", \"하고\", \"답변을\", \"기록한다\"],\n",
        "     [\"PRP\", \"NN\", \"NN\", \"VB\", \"NN\", \"VB\"]),\n",
        "\n",
        "    ([\"그는\", \"캠핑장에서\", \"텐트를\", \"설치하고\", \"바비큐를\", \"준비했다\"],\n",
        "     [\"PRP\", \"NN\", \"NN\", \"VB\", \"NN\", \"VB\"]),\n",
        "\n",
        "    ([\"그녀는\", \"공방에서\", \"도자기를\", \"만들며\", \"라디오를\", \"들었다\"],\n",
        "     [\"PRP\", \"NN\", \"NN\", \"VB\", \"NN\", \"VB\"]),\n",
        "\n",
        "    ([\"우리는\", \"서점에서\", \"책갈피를\", \"구입하고\", \"선물했다\", \"친구에게\"],\n",
        "     [\"PRP\", \"NN\", \"NN\", \"VB\", \"VB\", \"NN\"]),\n",
        "\n",
        "    ([\"아이는\", \"놀이터에서\", \"미끄럼틀을\", \"타고\", \"모래성을\", \"쌓았다\"],\n",
        "     [\"NN\", \"NN\", \"NN\", \"VB\", \"NN\", \"VB\"]),\n",
        "\n",
        "    ([\"나는\", \"지하철역에서\", \"표를\", \"구매하고\", \"개찰구를\", \"지나갔다\"],\n",
        "     [\"PRP\", \"NN\", \"NN\", \"VB\", \"NN\", \"VB\"]),\n",
        "\n",
        "    ([\"엄마는\", \"창고에서\", \"김장을\", \"꺼내어\", \"반찬을\", \"차려냈다\"],\n",
        "     [\"PRP\", \"NN\", \"NN\", \"VB\", \"NN\", \"VB\"]),\n",
        "\n",
        "    ([\"아빠는\", \"정원에\", \"화분을\", \"나란히\", \"배치하고\", \"물을\", \"주었다\"],\n",
        "     [\"PRP\", \"NN\", \"NN\", \"RB\", \"VB\", \"NN\", \"VB\"]),\n",
        "\n",
        "    ([\"고양이는\", \"싱크대\", \"위로\", \"뛰어올라\", \"컵을\", \"떨어뜨렸다\"],\n",
        "     [\"NN\", \"NN\", \"RB\", \"VB\", \"NN\", \"VB\"]),\n",
        "\n",
        "    ([\"강아지는\", \"담요를\", \"물고\", \"소파\", \"밑에\", \"숨었다\"],\n",
        "     [\"NN\", \"NN\", \"VB\", \"NN\", \"NN\", \"VB\"]),\n",
        "\n",
        "    ([\"너는\", \"식물원을\", \"방문하고\", \"다육이를\", \"찍어서\", \"보냈다\"],\n",
        "     [\"PRP\", \"NN\", \"VB\", \"NN\", \"VB\", \"VB\"]),\n",
        "]\n"
      ],
      "metadata": {
        "id": "Sxi1u192pDaG"
      },
      "execution_count": 64,
      "outputs": []
    },
    {
      "cell_type": "code",
      "source": [
        "# 단어 사전 만들기\n",
        "# pad: 문장을 동일한 길이로 맞추기 위한 토큰\n",
        "# unk: 사전에 없는 단어 처리용으로 만든 토큰\n",
        "word_vocab = {\"<PAD>\": 0, \"<UNK>\": 1}\n",
        "tag_vocab = {\"<PAD>\": 0}\n",
        "\n",
        "for sentence, tags in data:\n",
        "    for word in sentence:\n",
        "      if word not in word_vocab:\n",
        "          word_vocab[word] = len(word_vocab)\n",
        "    for tag in tags:\n",
        "      if tag not in tag_vocab:\n",
        "        tag_vocab[tag] = len(tag_vocab)\n",
        "\n",
        "idx2tag = {i: t for t, i in tag_vocab.items()}"
      ],
      "metadata": {
        "id": "tVa7opelqN7D"
      },
      "execution_count": 69,
      "outputs": []
    },
    {
      "cell_type": "code",
      "source": [
        "# 시퀸스를 정수 인덱스로 변환\n",
        "def encode(sentence, tags, max_len):\n",
        "  x =[word_vocab[w] for w in sentence] + [0] * (max_len - len(sentence))\n",
        "  y = [tag_vocab[t] for t in tags] + [0] * (max_len - len(tags))\n",
        "  return torch.tensor(x), torch.tensor(y)\n",
        "\n",
        "max_len = max(len(s) for s, _ in data)\n",
        "encoded_data = [encode(s, t, max_len) for s, t in data]"
      ],
      "metadata": {
        "id": "HJayZ64Dq8di"
      },
      "execution_count": 70,
      "outputs": []
    },
    {
      "cell_type": "code",
      "source": [
        "# 모델 정의\n",
        "class POSTagger(nn.Module):\n",
        "  def __init__(self, vocab_size,tagset_size, hidden_dim, embed_dim):\n",
        "      super().__init__()\n",
        "      self.embed = nn.Embedding(vocab_size, embed_dim)\n",
        "      self.rnn = nn.RNN(embed_dim, hidden_dim, batch_first = True)\n",
        "      self.fc = nn.Linear(hidden_dim, tagset_size)\n",
        "\n",
        "  def forward(self, x):\n",
        "    x = self.embed(x)\n",
        "    out, _ = self.rnn(x)\n",
        "    out = self.fc(out)\n",
        "    return out\n",
        "\n",
        "vocab_size = len(word_vocab)\n",
        "tagset_size = len(tag_vocab)\n",
        "model = POSTagger(vocab_size, tagset_size, embed_dim=16, hidden_dim=32)\n",
        "\n",
        "criterion = nn.CrossEntropyLoss()\n",
        "optimizer = optim.Adam(model.parameters(), lr=0.01)"
      ],
      "metadata": {
        "id": "U30rTykorhus"
      },
      "execution_count": 75,
      "outputs": []
    },
    {
      "cell_type": "code",
      "source": [
        "# 학습\n",
        "for epoch in range(200):\n",
        "  total_loss = 0\n",
        "  for x, y in encoded_data:\n",
        "    x, y = x.unsqueeze(0), y.unsqueeze(0)\n",
        "    output = model(x)\n",
        "    loss = criterion(output.view(-1, tagset_size), y.view(-1))\n",
        "    optimizer.zero_grad()\n",
        "    loss.backward()\n",
        "    optimizer.step()\n",
        "    total_loss += loss.item()\n",
        "  if (epoch +1) % 20 == 0:\n",
        "    print(f\"Epoch: {epoch+1}, Loss: {total_loss: .4f}\")"
      ],
      "metadata": {
        "colab": {
          "base_uri": "https://localhost:8080/"
        },
        "id": "Qbb99bV6seh0",
        "outputId": "335d89b2-838b-4d87-cdcd-3c5b82650c11"
      },
      "execution_count": 76,
      "outputs": [
        {
          "output_type": "stream",
          "name": "stdout",
          "text": [
            "Epoch: 20, Loss:  0.0471\n",
            "Epoch: 40, Loss:  0.0114\n",
            "Epoch: 60, Loss:  0.0046\n",
            "Epoch: 80, Loss:  0.0022\n",
            "Epoch: 100, Loss:  0.0011\n",
            "Epoch: 120, Loss:  0.0006\n",
            "Epoch: 140, Loss:  0.0004\n",
            "Epoch: 160, Loss:  0.0002\n",
            "Epoch: 180, Loss:  0.0001\n",
            "Epoch: 200, Loss:  0.0001\n"
          ]
        }
      ]
    },
    {
      "cell_type": "code",
      "source": [
        "# 예측 함수\n",
        "def predict(sentence):\n",
        "  x = torch.tensor(\n",
        "      [word_vocab.get(w, word_vocab[\"<UNK>\"]) for w in sentence] +\n",
        "      [word_vocab[\"<PAD>\"]] * (max_len - len(sentence))\n",
        "  ).unsqueeze(0)\n",
        "\n",
        "  output = model(x)\n",
        "  pred = torch.argmax(output, dim=2).squeeze()\n",
        "  return [idx2tag[i.item()] for i in pred[:len(sentence)]]"
      ],
      "metadata": {
        "id": "pP-N0BaUuqH3"
      },
      "execution_count": 79,
      "outputs": []
    },
    {
      "cell_type": "code",
      "source": [
        "test_sent = [\"나는\", \"왠만해선\", \"놀라지를\", \"않는다\"]\n",
        "print(\"문장:\", test_sent)\n",
        "print(\"예측된 품사:\", predict(test_sent))"
      ],
      "metadata": {
        "colab": {
          "base_uri": "https://localhost:8080/"
        },
        "id": "kaRgC2XbvTVI",
        "outputId": "47b09eee-094f-4908-8c20-c092d94e30d0"
      },
      "execution_count": 82,
      "outputs": [
        {
          "output_type": "stream",
          "name": "stdout",
          "text": [
            "문장: ['나는', '왠만해선', '놀라지를', '않는다']\n",
            "예측된 품사: ['PRP', 'NN', 'VB', 'RB']\n"
          ]
        }
      ]
    }
  ]
}